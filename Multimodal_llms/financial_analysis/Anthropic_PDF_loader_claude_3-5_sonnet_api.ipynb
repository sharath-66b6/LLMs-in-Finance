{
  "nbformat": 4,
  "nbformat_minor": 0,
  "metadata": {
    "colab": {
      "provenance": [],
      "toc_visible": true
    },
    "kernelspec": {
      "name": "python3",
      "display_name": "Python 3"
    },
    "language_info": {
      "name": "python"
    }
  },
  "cells": [
    {
      "cell_type": "markdown",
      "source": [
        "# **PDF support in Claude 3.5 Sonnet API New Feature:**\n",
        "\n",
        "Anthropic introduces PDF support in Claude 3.5 Sonnet API, enabling seamless integration of PDF documents into AI workflows.\n",
        "\n",
        "\n",
        "Claude 3.5 Sonnet now allows users to upload PDFs directly into the model using the API, bypassing the need for manual text extraction or conversion. This feature makes it easier to analyze and respond to queries based on detailed documents without extra steps.\n",
        "\n",
        "\n",
        "👉 **Key Features:**\n",
        "\n",
        "- **Direct PDF Uploads:** Users can now upload PDFs directly using the API, allowing Claude to process and analyze the content without manual text extraction.\n",
        "- **Enhanced Data Extraction:** Claude can extract text, tables, and images from PDFs, facilitating comprehensive data analysis.\n",
        "\n",
        "This feature expands the ability to get insights and allows for more comprehensive answers based on data from different sources within the document.\n",
        "\n",
        "\n",
        "\n",
        "👉 **Use Cases:**\n",
        "\n",
        "This new feature can be used for:\n",
        "\n",
        "- **Document Summarization** to quickly generate concise summaries of lengthy reports or articles\n",
        "- **Data Analysis** to extract and analyze data from financial statements, research papers, and other structured documents.\n",
        "- **Content Generation** to utilize extracted information to create new content, such as reports or presentations.\n",
        "\n",
        "\n",
        "👉 **How PDF Support Operates**:\n",
        "\n",
        "When you submit a request with a PDF file, here’s how the process works:\n",
        "\n",
        "1️⃣ **Extracting Document Contents**\n",
        "\n",
        "   - The system first processes the document by converting each page into an image.\n",
        "\n",
        "   - Text is then extracted from each page and paired with its respective image, creating a comprehensive data set for each page.\n",
        "\n",
        "\n",
        "2️⃣ **Combined Analysis of Text and Images**\n",
        "\n",
        "   - Claude analyzes both the extracted text and the images to understand the document’s content thoroughly.\n",
        "\n",
        "   - This approach enables users to gain insights into visual elements like charts, diagrams, and other non-text components within the PDF.\n",
        "\n",
        "3️⃣ **Seamless Integration with Other Claude Features**\n",
        "\n",
        "   - PDF support works well with : Prompt caching, Batch processing, Tool integration.\n",
        "\n",
        "This comprehensive support enhances the ability to analyze and interact with PDF files, making it a powerful tool for extracting both textual and visual information.\n",
        "\n",
        "\n",
        "👉 **Constraints**:\n",
        "\n",
        "- Maximum request size\t32MB\n",
        "- Maximum pages\t100\n",
        "\n",
        "You can also use token counting to determine the number of tokens in a message containing PDFs.\n",
        "\n",
        "In \"Counting Tokens\" paragraph, I'll show you how to use count for tokens endpoint.\n",
        "\n",
        "\n",
        "\n"
      ],
      "metadata": {
        "id": "D-QbvnqajNuD"
      }
    },
    {
      "cell_type": "markdown",
      "source": [
        "👉 **BlackRock Q4 2024 Outlooks report:**\n",
        "I've conducted a test using BlackRock report for Q4 2024 outlooks. This report outlines BlackRock's key investment strategies across three main areas: equities, fixed income , and alternative assets. The document provides detailed analysis and recommendations for positioning portfolios amid market volatility, falling interest rates, and the upcoming US presidential election, while emphasizing the importance of maintaining a selective approach across asset classes.\n",
        "\n",
        "\n",
        "This report contains a range of text, figures, and charts. The aim was to test the new PDF support feature."
      ],
      "metadata": {
        "id": "08v2T9kNrs-G"
      }
    },
    {
      "cell_type": "markdown",
      "source": [
        "[Hanane Dupouy](https://www.linkedin.com/in/hanane-d-algo-trader)"
      ],
      "metadata": {
        "id": "6YHS3N8gyeFt"
      }
    },
    {
      "cell_type": "markdown",
      "source": [
        "# Install libs"
      ],
      "metadata": {
        "id": "N77xnKia09-3"
      }
    },
    {
      "cell_type": "code",
      "source": [
        "!pip install anthropic -q"
      ],
      "metadata": {
        "id": "_9rfdqXL2JIz"
      },
      "execution_count": null,
      "outputs": []
    },
    {
      "cell_type": "code",
      "execution_count": 2,
      "metadata": {
        "id": "lNVVN_Gh1eQq"
      },
      "outputs": [],
      "source": [
        "import anthropic\n",
        "import base64"
      ]
    },
    {
      "cell_type": "code",
      "source": [
        "from google.colab import userdata\n",
        "CLAUDE_API_KEY = userdata.get('CLAUDE_API_KEY')"
      ],
      "metadata": {
        "id": "jKuxCyDD3DCq"
      },
      "execution_count": 5,
      "outputs": []
    },
    {
      "cell_type": "markdown",
      "source": [
        "# PDF loading"
      ],
      "metadata": {
        "id": "Ce8Dst4v1GlY"
      }
    },
    {
      "cell_type": "code",
      "source": [
        "def upload_pdf(path_to_pdf):\n",
        "  with open(path_to_pdf, \"rb\") as pdf_file:\n",
        "    binary_data = pdf_file.read()\n",
        "    base_64_encoded_data = base64.b64encode(binary_data)\n",
        "    base64_string = base_64_encoded_data.decode('utf-8')\n",
        "  return base64_string"
      ],
      "metadata": {
        "id": "NsCVuetv3eFu"
      },
      "execution_count": 6,
      "outputs": []
    },
    {
      "cell_type": "markdown",
      "source": [
        "The BlackRock PDF originally has 19 pages, but I’ve excluded the last 6 pages as they mostly contain risk warnings for various countries where BlackRock operates. These sections don’t add value to the Q4 2024 outlook and would increase token count, raising costs."
      ],
      "metadata": {
        "id": "yytGtM9N-X98"
      }
    },
    {
      "cell_type": "code",
      "source": [
        "# BlackRock: Key Themes and Outlook for Q4 2024\n",
        "# BlackRock pdf source: https://www.blackrock.com/institutions/en-zz/literature/whitepaper/investment-directions-q4-24-np.pdf\n",
        "\n",
        "path_to_pdf = local_path + 'BlackRock_investment-directions-q4-24-np-1-13.pdf'\n",
        "pdf_data = upload_pdf(path_to_pdf)"
      ],
      "metadata": {
        "id": "jL1jgxwxipSc"
      },
      "execution_count": 8,
      "outputs": []
    },
    {
      "cell_type": "markdown",
      "source": [
        "Before uploading the PDF to Anthropic and testing this new feature, let’s first count the number of tokens, understand the rate limits, and compare them to the feature's constraints."
      ],
      "metadata": {
        "id": "1SnC9sMm9ryX"
      }
    },
    {
      "cell_type": "markdown",
      "source": [
        "# Counting Tokens"
      ],
      "metadata": {
        "id": "DOgglG0M4br4"
      }
    },
    {
      "cell_type": "markdown",
      "source": [
        "You are not charged when asking for tokens counting."
      ],
      "metadata": {
        "id": "Uf8PyPyf_XER"
      }
    },
    {
      "cell_type": "code",
      "source": [
        "client = anthropic.Anthropic(api_key = CLAUDE_API_KEY)\n",
        "\n",
        "# path_to_pdf = local_path + 'BlackRock_investment-directions-q4-24-np-1-13.pdf'\n",
        "# pdf_data = upload_pdf(path_to_pdf)\n",
        "\n",
        "response = client.beta.messages.count_tokens(\n",
        "    betas=[\"token-counting-2024-11-01\", \"pdfs-2024-09-25\"],\n",
        "    model=\"claude-3-5-sonnet-20241022\",\n",
        "    messages=[{\n",
        "        \"role\": \"user\",\n",
        "        \"content\": [\n",
        "            {\"type\": \"document\", \"source\": { \"type\": \"base64\", \"media_type\": \"application/pdf\", \"data\": pdf_data}},\n",
        "            {\"type\": \"text\", \"text\": \"Please summarize this document.\"}\n",
        "        ]\n",
        "    }]\n",
        ")\n",
        "\n",
        "print(response.json())"
      ],
      "metadata": {
        "colab": {
          "base_uri": "https://localhost:8080/"
        },
        "id": "gx6HbD0dlTO3",
        "outputId": "0aacf0cd-b0b1-4fd5-c067-d1760f703ee2"
      },
      "execution_count": null,
      "outputs": [
        {
          "output_type": "stream",
          "name": "stdout",
          "text": [
            "{\"input_tokens\":31042}\n"
          ]
        }
      ]
    },
    {
      "cell_type": "markdown",
      "source": [
        "Here are the number of tokens in the originbal book:"
      ],
      "metadata": {
        "id": "-t6thVd29jln"
      }
    },
    {
      "cell_type": "code",
      "source": [
        "# client = anthropic.Anthropic(api_key = CLAUDE_API_KEY)\n",
        "\n",
        "import httpx\n",
        "\n",
        "pdf_url = \"https://www.blackrock.com/institutions/en-zz/literature/whitepaper/investment-directions-q4-24-np.pdf\"\n",
        "pdf_data = base64.standard_b64encode(httpx.get(pdf_url).content).decode(\"utf-8\")\n",
        "\n",
        "response = client.beta.messages.count_tokens(\n",
        "    betas=[\"token-counting-2024-11-01\", \"pdfs-2024-09-25\"],\n",
        "    model=\"claude-3-5-sonnet-20241022\",\n",
        "    messages=[{\n",
        "        \"role\": \"user\",\n",
        "        \"content\": [\n",
        "            {\"type\": \"document\", \"source\": { \"type\": \"base64\", \"media_type\": \"application/pdf\", \"data\": pdf_data}},\n",
        "            {\"type\": \"text\", \"text\": \"Please summarize this document.\"}\n",
        "        ]\n",
        "    }]\n",
        ")\n",
        "\n",
        "print(response.json())\n",
        "#I have a rate limit of 40 000 tokens per minute. I decided to remove the last 6 pages to reduce this number."
      ],
      "metadata": {
        "colab": {
          "base_uri": "https://localhost:8080/"
        },
        "id": "LjhN14W__07U",
        "outputId": "8c8573c7-b58a-4f4d-db54-c0daea92e23e"
      },
      "execution_count": null,
      "outputs": [
        {
          "output_type": "stream",
          "name": "stdout",
          "text": [
            "{\"input_tokens\":49563}\n"
          ]
        }
      ]
    },
    {
      "cell_type": "markdown",
      "source": [
        "**Tokens Counting - Takeaways:**"
      ],
      "metadata": {
        "id": "AIZOCxM7_xYn"
      }
    },
    {
      "cell_type": "markdown",
      "source": [
        "\n",
        "As I have excluded the last 6 pages, I reduced the number of tokens from 49K to 31K.\n",
        "\n",
        "The rate limit for the latest sonnet model is 40 000 tokens per minute.\n",
        "\n",
        "Also we need to not exceed 100 pages to use this new feature, where each page should be between 1500 to 3000. With our 31K tokens we are so far from this limit."
      ],
      "metadata": {
        "id": "k1DlK3aB-Gry"
      }
    },
    {
      "cell_type": "markdown",
      "source": [
        "# Anthropic completion: Specify the access to the new beta-feature : \"PDF\""
      ],
      "metadata": {
        "id": "dmHEhlJD1A-w"
      }
    },
    {
      "cell_type": "markdown",
      "source": [
        "Either you specify it in the header or inside the message creation endpoint:\n",
        "\"pdfs-2024-09-25\"\n",
        "\n",
        "I've also added the prompt caching feature to reduce costs (I'll explain it in another notebook)"
      ],
      "metadata": {
        "id": "dHnFdKF8AqrW"
      }
    },
    {
      "cell_type": "code",
      "source": [
        "# [\"pdfs-2024-09-25\", \"prompt-caching-2024-07-31\"],\n",
        "\n",
        "client = anthropic.Anthropic(api_key = CLAUDE_API_KEY)\n",
        "# client = anthropic.Anthropic(default_headers={\n",
        "#     \"anthropic-beta\": {\"pdfs-2024-09-25\",\"prompt-caching-2024-07-31\"}\n",
        "#   },\n",
        "#   api_key = CLAUDE_API_KEY\n",
        "# )\n",
        "\n",
        "# For now, only claude-3-5-sonnet-20241022 supports PDFs\n",
        "MODEL_NAME = \"claude-3-5-sonnet-20241022\"\n",
        "\n",
        "def get_completion(messages, model=MODEL_NAME):\n",
        "    completion = client.beta.messages.create(\n",
        "        betas=[\"pdfs-2024-09-25\", \"prompt-caching-2024-07-31\"],\n",
        "        model=model,\n",
        "        max_tokens=8192,\n",
        "        messages=messages,\n",
        "        temperature=0,\n",
        "    )\n",
        "    return completion"
      ],
      "metadata": {
        "id": "G6BAcjgN2IHR"
      },
      "execution_count": 9,
      "outputs": []
    },
    {
      "cell_type": "markdown",
      "source": [
        "# Create the message with PDF data and start chatting:"
      ],
      "metadata": {
        "id": "wmhBcl2r4feo"
      }
    },
    {
      "cell_type": "markdown",
      "source": [
        "## First query: Summarize the document"
      ],
      "metadata": {
        "id": "K0-mbdnPmHjM"
      }
    },
    {
      "cell_type": "markdown",
      "source": [
        "This simple query does not specify prompt caching parameter.\n",
        "This is to simply test the PDF feature:"
      ],
      "metadata": {
        "id": "bdhhHNdLWf4p"
      }
    },
    {
      "cell_type": "code",
      "source": [
        "messages = [\n",
        "    {\n",
        "        \"role\": 'user',\n",
        "        \"content\": [\n",
        "            {\"type\": \"document\", \"source\": {\"type\": \"base64\", \"media_type\": \"application/pdf\", \"data\": pdf_data}},\n",
        "            {\"type\": \"text\", \"text\": \"Summarise the document.\"}\n",
        "        ]\n",
        "    }\n",
        "]\n",
        "\n",
        "completion = get_completion(messages)\n",
        "\n",
        "print(completion.content[0].text)"
      ],
      "metadata": {
        "colab": {
          "base_uri": "https://localhost:8080/"
        },
        "id": "O1PFJ9p070dq",
        "outputId": "e0997d60-e834-4774-8a72-5c2729aec9c5"
      },
      "execution_count": null,
      "outputs": [
        {
          "output_type": "stream",
          "name": "stdout",
          "text": [
            "This document is BlackRock's Q4 2024 Investment Directions report for EMEA, outlining their investment strategy and market outlook. Here are the key points:\n",
            "\n",
            "1. Overall Market View:\n",
            "- Positive but cautious sentiment towards equities\n",
            "- Focus on managing volatility ahead of US presidential election\n",
            "- Emphasis on quality investments and broader earnings opportunities\n",
            "- Positioning for global easing cycles as central banks begin rate cuts\n",
            "\n",
            "2. Key Investment Areas:\n",
            "\n",
            "Equities:\n",
            "- Favoring quality stocks and broader market opportunities beyond US tech\n",
            "- Seeing strong opportunities in Europe with selective, active approach\n",
            "- Maintaining focus on AI beneficiaries but with broader sector exposure\n",
            "\n",
            "Fixed Income:\n",
            "- Recommending locking in income while rates remain elevated\n",
            "- Preferring belly of US Treasury curve\n",
            "- More comfortable extending duration in European bonds\n",
            "- Favoring EUR credit over USD, with preference for quality\n",
            "\n",
            "Alternative Investments:\n",
            "- Increasing focus on liquid alternatives for portfolio diversification\n",
            "- Seeing strategic opportunities in private markets\n",
            "- Using gold as a hedge against geopolitical risks\n",
            "- Looking to multi-asset strategies for navigating market complexity\n",
            "\n",
            "3. Key Risks/Considerations:\n",
            "- US presidential election uncertainty\n",
            "- Ongoing macroeconomic uncertainty\n",
            "- Less predictable cross-asset correlations\n",
            "- Geopolitical risks remaining structurally higher\n",
            "\n",
            "The document emphasizes a balanced approach to risk, combining quality-focused core positions with tactical opportunities across asset classes, while maintaining strong diversification through various alternative investments.\n"
          ]
        }
      ]
    },
    {
      "cell_type": "markdown",
      "source": [
        "## Set of queries: Equities related questions, AI questions and US Elections questions"
      ],
      "metadata": {
        "id": "Op4SXUw_EX2V"
      }
    },
    {
      "cell_type": "markdown",
      "source": [
        "In this method, I added the **cache_control** parameter to implement the **prompt** **caching** in the following interactions with Claude 3.5 Sonnet:"
      ],
      "metadata": {
        "id": "2m0xhJuOWyTS"
      }
    },
    {
      "cell_type": "code",
      "source": [
        "def build_message (query, pdf_data):\n",
        "  messages = [\n",
        "      {\n",
        "          \"role\": 'user',\n",
        "          \"content\": [\n",
        "              {\"type\": \"document\", \"source\": {\"type\": \"base64\", \"media_type\": \"application/pdf\", \"data\": pdf_data},\"cache_control\": {\"type\": \"ephemeral\"}},\n",
        "              {\"type\": \"text\", \"text\": query}\n",
        "          ]\n",
        "      }\n",
        "    ]\n",
        "  return messages"
      ],
      "metadata": {
        "id": "QrolWwv5ssyL"
      },
      "execution_count": 10,
      "outputs": []
    },
    {
      "cell_type": "markdown",
      "source": [
        "Here are the different questions I'll be asking about various topics discussed in the report: Equities, AI and US Election."
      ],
      "metadata": {
        "id": "a2qVOrauXHSN"
      }
    },
    {
      "cell_type": "code",
      "source": [
        "# Equities\n",
        "queries_equities = [\"What are BlackRock's recommendations for equity investments in Q4 2024?\",\n",
        "\"How is the broadening of earnings impacting equity investments according to BlackRock?\",\n",
        "\"Why does BlackRock suggest focusing on high-quality stocks in the current market?'\"\n",
        "]\n",
        "\n",
        "# AI\n",
        "queries_ai = [\n",
        "\"How does BlackRock view AI as a theme for investment?\",\n",
        "\"What sectors does BlackRock believe could benefit from AI infrastructure growth?\",\n",
        "\"What are BlackRock’s thoughts on the impact of AI capex on market valuations?\"\n",
        "]\n",
        "\n",
        "# US ELECTION\n",
        "queries_us_election = [\n",
        "\"How does BlackRock anticipate the US election may impact trade policies?\",\n",
        "\"What potential market impacts does BlackRock see from the 2024 US presidential election?\",\n",
        "\"How could UK equities serve as a hedge according to BlackRock’s election outlook?\"]"
      ],
      "metadata": {
        "id": "bBf7ZUVi3oja"
      },
      "execution_count": 12,
      "outputs": []
    },
    {
      "cell_type": "markdown",
      "source": [
        "### Equities Related Questions:"
      ],
      "metadata": {
        "id": "x90RgfE8E6pq"
      }
    },
    {
      "cell_type": "code",
      "source": [
        "for query in queries_equities:\n",
        "  messages = build_message(query, pdf_data)\n",
        "  print(\"--------QUERY---------\")\n",
        "  print(query)\n",
        "  print()\n",
        "  completion = get_completion(messages)\n",
        "  print(\"--------ANSWER---------\")\n",
        "  print(completion.content[0].text)\n",
        "  print()\n",
        "  print(\"--------TOKENS COUNT---------\")\n",
        "  print(completion.usage)\n",
        "  print()\n",
        "  print(\"--------STOP REASON---------\")\n",
        "  print(completion.stop_reason)\n",
        "  print()"
      ],
      "metadata": {
        "colab": {
          "base_uri": "https://localhost:8080/"
        },
        "id": "aOfFVzl2q-yI",
        "outputId": "1b1e8fcc-9051-4ffd-e6af-58ee0d1b6263"
      },
      "execution_count": null,
      "outputs": [
        {
          "output_type": "stream",
          "name": "stdout",
          "text": [
            "--------QUERY---------\n",
            "What are BlackRock's recommendations for equity investments in Q4 2024?\n",
            "\n",
            "--------ANSWER---------\n",
            "Based on the document, here are BlackRock's key equity investment recommendations for Q4 2024:\n",
            "\n",
            "1. Quality and Breadth Focus:\n",
            "- Look to take advantage of broadening earnings prospects while maintaining a quality tilt and selectivity amid volatility\n",
            "- Maintain conviction in US equities but with a more granular, active approach\n",
            "- Moving from narrow US tech focus to a wider set of opportunities\n",
            "\n",
            "2. Regional Preferences:\n",
            "- Continue to favor US equities\n",
            "- See strong opportunities in Europe, particularly through selective active management\n",
            "- Prefer granular, active approach for European exposure\n",
            "- Like India within emerging markets for its low correlation to global equities\n",
            "\n",
            "3. Sector Positioning:\n",
            "- Continue to see tailwinds for AI beneficiaries\n",
            "- Favor utilities and REITs which may benefit from lower rates\n",
            "- Look favorably on European banks due to earnings potential despite lower valuations\n",
            "\n",
            "4. Strategic Approach:\n",
            "- Maintain focus on high-quality exposures at portfolio core\n",
            "- Use systematic strategies leveraging data for stock selection\n",
            "- Consider equal-weight S&P 500 exposure to moderate mega-cap concentration\n",
            "- Look to capture market breadth through sector diversification\n",
            "\n",
            "5. Risk Management:\n",
            "- Manage volatility through quality and selectivity\n",
            "- Prepare for potential volatility around US presidential election\n",
            "- Focus on companies with strong earnings prospects and fundamentals\n",
            "\n",
            "The overall stance is pro-risk but selective, with an emphasis on quality companies and broader market participation beyond just mega-cap tech stocks.\n",
            "\n",
            "--------TOKENS COUNT---------\n",
            "BetaUsage(cache_creation_input_tokens=31019, cache_read_input_tokens=0, input_tokens=34, output_tokens=336)\n",
            "\n",
            "--------STOP REASON---------\n",
            "end_turn\n",
            "\n",
            "--------QUERY---------\n",
            "How is the broadening of earnings impacting equity investments according to BlackRock?\n",
            "\n",
            "--------ANSWER---------\n",
            "According to the document, BlackRock sees earnings breadth increasing at the sector level in several key ways:\n",
            "\n",
            "1. Earnings growth in the US has improved sequentially quarter-over-quarter in 2024 from 2023's recession levels:\n",
            "- Overall Q2 earnings growth tracked at 11.6%\n",
            "- Tech sector delivered 21.2% growth QoQ\n",
            "- Other sectors also showed solid earnings:\n",
            "  - Financials (18.2% QoQ)\n",
            "  - Healthcare (16.7% QoQ) \n",
            "  - Utilities (15.2% QoQ)\n",
            "\n",
            "2. Investment Implications:\n",
            "- Moving from a narrow US tech focus to a wider set of opportunities\n",
            "- Taking advantage of broadening earnings prospects while still maintaining quality and selectivity\n",
            "- Seeing the broader earnings growth as a sign the economy is more resilient than markets are pricing in\n",
            "- Looking to capture market breadth through sectors like utilities and REITs that may benefit from lower rates\n",
            "\n",
            "3. Strategy Adjustments:\n",
            "- Maintaining conviction in US equities while looking for select opportunities in Europe\n",
            "- Favoring a granular, active approach beyond the US market\n",
            "- Focusing on quality and selectivity amid volatility\n",
            "- Managing volatility through quality-focused investments while taking advantage of the broader earnings environment\n",
            "\n",
            "The document suggests BlackRock is adapting its equity strategy to capitalize on this earnings breadth while still maintaining a focus on quality investments and careful sector selection in what they expect to remain a volatile market environment.\n",
            "\n",
            "--------TOKENS COUNT---------\n",
            "BetaUsage(cache_creation_input_tokens=0, cache_read_input_tokens=31019, input_tokens=34, output_tokens=331)\n",
            "\n",
            "--------STOP REASON---------\n",
            "end_turn\n",
            "\n",
            "--------QUERY---------\n",
            "Why does BlackRock suggest focusing on high-quality stocks in the current market?'\n",
            "\n",
            "--------ANSWER---------\n",
            "According to the document, BlackRock suggests focusing on high-quality stocks for several key reasons:\n",
            "\n",
            "1. Market Volatility: There is elevated volatility in the current market environment, particularly as we approach the US presidential election. High-quality exposures can help manage this volatility.\n",
            "\n",
            "2. Earnings Environment: While earnings growth is broadening across sectors, there is still dispersion across individual stocks, creating a need for selectivity.\n",
            "\n",
            "3. Portfolio Resilience: Quality stocks can help bolster portfolio resilience while still capitalizing on market opportunities. This is particularly important given the current macroeconomic uncertainty and geopolitical risks.\n",
            "\n",
            "4. Strong Investor Interest: Quality remains the most popular factor this year in global ETP flows, with $24.9B added year-to-date, indicating strong investor conviction in this approach.\n",
            "\n",
            "5. Core Portfolio Strategy: BlackRock recommends maintaining high-quality exposures at the core of portfolios, using both:\n",
            "- High-conviction alpha strategies in ETF and mutual fund formats\n",
            "- Systematic strategies that leverage large datasets to identify high-quality stocks and generate stock-specific alpha\n",
            "\n",
            "The focus on quality is part of BlackRock's broader strategy to take advantage of broadening earnings prospects while still maintaining selectivity and managing volatility in an uncertain market environment.\n",
            "\n",
            "--------TOKENS COUNT---------\n",
            "BetaUsage(cache_creation_input_tokens=0, cache_read_input_tokens=31019, input_tokens=35, output_tokens=281)\n",
            "\n",
            "--------STOP REASON---------\n",
            "end_turn\n",
            "\n"
          ]
        }
      ]
    },
    {
      "cell_type": "markdown",
      "source": [
        "**Takeaways**:\n",
        "\n",
        "The first thing that caught my attention was the variety of numbers Claude collected to answer queries 2 and 3. I fact-checked these numbers, and they are accurate.\n",
        "\n",
        "Overall, the model’s answers are precise and are supported by well-retrieved figures, adding valuable context to the queries.\n"
      ],
      "metadata": {
        "id": "4x1AuIwbXUs1"
      }
    },
    {
      "cell_type": "markdown",
      "source": [
        "### AI Related Questions:"
      ],
      "metadata": {
        "id": "VMEa4h_7V1Na"
      }
    },
    {
      "cell_type": "code",
      "source": [
        "from IPython.display import HTML"
      ],
      "metadata": {
        "id": "m2yXDgZpFfDN"
      },
      "execution_count": 13,
      "outputs": []
    },
    {
      "cell_type": "code",
      "source": [
        "for idx, query in enumerate(queries_ai):\n",
        "  display(HTML(f\"<p style='color:red;'>Query n° {idx}</p>\"))\n",
        "  messages = build_message(query, pdf_data)\n",
        "  display(HTML(f\"<p style='color:fuchsia;'>--------QUERY---------</p>\"))\n",
        "  display(HTML(f\"<p style='color:fuchsia;'>{query}</p>\"))\n",
        "  print()\n",
        "  completion = get_completion(messages)\n",
        "  display(HTML(f\"<p style='color:green;'>--------ANSWER---------</p>\"))\n",
        "  print(completion.content[0].text)\n",
        "  print()\n",
        "  display(HTML(f\"<p style='color:blue;'>--------TOKENS COUNT---------</p>\"))\n",
        "  display(HTML(f\"<p style='color:blue;'>{completion.usage}</p>\"))\n",
        "  print()\n",
        "  print(\"--------STOP REASON---------\")\n",
        "  print(completion.stop_reason)\n",
        "  print(\"\\n\\n\")"
      ],
      "metadata": {
        "colab": {
          "base_uri": "https://localhost:8080/",
          "height": 1000
        },
        "id": "nJ1Q1fGwzgyi",
        "outputId": "c3eb1d07-8809-4312-f796-7eaf919b6fc5"
      },
      "execution_count": 14,
      "outputs": [
        {
          "output_type": "display_data",
          "data": {
            "text/plain": [
              "<IPython.core.display.HTML object>"
            ],
            "text/html": [
              "<p style='color:red;'>Query n° 0</p>"
            ]
          },
          "metadata": {}
        },
        {
          "output_type": "display_data",
          "data": {
            "text/plain": [
              "<IPython.core.display.HTML object>"
            ],
            "text/html": [
              "<p style='color:fuchsia;'>--------QUERY---------</p>"
            ]
          },
          "metadata": {}
        },
        {
          "output_type": "display_data",
          "data": {
            "text/plain": [
              "<IPython.core.display.HTML object>"
            ],
            "text/html": [
              "<p style='color:fuchsia;'>How does BlackRock view AI as a theme for investment?</p>"
            ]
          },
          "metadata": {}
        },
        {
          "output_type": "stream",
          "name": "stdout",
          "text": [
            "\n"
          ]
        },
        {
          "output_type": "display_data",
          "data": {
            "text/plain": [
              "<IPython.core.display.HTML object>"
            ],
            "text/html": [
              "<p style='color:green;'>--------ANSWER---------</p>"
            ]
          },
          "metadata": {}
        },
        {
          "output_type": "stream",
          "name": "stdout",
          "text": [
            "Based on the document, BlackRock maintains a positive view on AI as an investment theme in Q4 2024, but suggests a more nuanced approach compared to earlier in the year. Here are the key points about their AI investment perspective:\n",
            "\n",
            "1. Continued Conviction:\n",
            "- They \"continue to see tailwinds for AI beneficiaries\"\n",
            "- Maintain conviction in the AI theme, but suggest patience is needed as the build-out has \"far to go\"\n",
            "\n",
            "2. Broadening Focus:\n",
            "- Moving from a narrow US tech focus to \"a wider set of opportunities\"\n",
            "- Looking beyond early AI winners to capture broader earnings growth\n",
            "- Expanding to first-phase beneficiaries in sectors like:\n",
            "  - Energy\n",
            "  - Infrastructure \n",
            "  - Utilities (for powering AI infrastructure)\n",
            "\n",
            "3. Infrastructure Emphasis:\n",
            "- Highlight the significant power and infrastructure requirements for AI development\n",
            "- Note that a data center using a 100k GPU cluster would require \"a small power plant to run\"\n",
            "- See opportunities in public infrastructure and utilities sectors to support AI expansion\n",
            "\n",
            "4. Cautious Near-Term View:\n",
            "- Acknowledge that sentiment shifts on AI capital expenditure could impact valuations\n",
            "- Recommend patience as the AI infrastructure build-out progresses\n",
            "- Suggest maintaining tech as part of a \"quality core\" in equities while broadening exposure\n",
            "\n",
            "5. Long-Term Outlook:\n",
            "- View AI as one of the structural \"mega forces\" affecting long-term investing\n",
            "- See persistent supply-demand dynamics creating opportunities in related sectors\n",
            "- Maintain strategic conviction while advocating for a more diversified approach\n",
            "\n",
            "The overall message is that while BlackRock remains positive on AI as an investment theme, they recommend broadening exposure beyond pure tech plays to capture opportunities across sectors that will benefit from AI's infrastructure needs and ongoing development.\n",
            "\n"
          ]
        },
        {
          "output_type": "display_data",
          "data": {
            "text/plain": [
              "<IPython.core.display.HTML object>"
            ],
            "text/html": [
              "<p style='color:blue;'>--------TOKENS COUNT---------</p>"
            ]
          },
          "metadata": {}
        },
        {
          "output_type": "display_data",
          "data": {
            "text/plain": [
              "<IPython.core.display.HTML object>"
            ],
            "text/html": [
              "<p style='color:blue;'>BetaUsage(cache_creation_input_tokens=31019, cache_read_input_tokens=0, input_tokens=30, output_tokens=397)</p>"
            ]
          },
          "metadata": {}
        },
        {
          "output_type": "stream",
          "name": "stdout",
          "text": [
            "\n",
            "--------STOP REASON---------\n",
            "end_turn\n",
            "\n",
            "\n",
            "\n"
          ]
        },
        {
          "output_type": "display_data",
          "data": {
            "text/plain": [
              "<IPython.core.display.HTML object>"
            ],
            "text/html": [
              "<p style='color:red;'>Query n° 1</p>"
            ]
          },
          "metadata": {}
        },
        {
          "output_type": "display_data",
          "data": {
            "text/plain": [
              "<IPython.core.display.HTML object>"
            ],
            "text/html": [
              "<p style='color:fuchsia;'>--------QUERY---------</p>"
            ]
          },
          "metadata": {}
        },
        {
          "output_type": "display_data",
          "data": {
            "text/plain": [
              "<IPython.core.display.HTML object>"
            ],
            "text/html": [
              "<p style='color:fuchsia;'>What sectors does BlackRock believe could benefit from AI infrastructure growth?</p>"
            ]
          },
          "metadata": {}
        },
        {
          "output_type": "stream",
          "name": "stdout",
          "text": [
            "\n"
          ]
        },
        {
          "output_type": "display_data",
          "data": {
            "text/plain": [
              "<IPython.core.display.HTML object>"
            ],
            "text/html": [
              "<p style='color:green;'>--------ANSWER---------</p>"
            ]
          },
          "metadata": {}
        },
        {
          "output_type": "stream",
          "name": "stdout",
          "text": [
            "According to the document, BlackRock identifies several sectors that could benefit from AI infrastructure growth:\n",
            "\n",
            "1. Utilities - The document notes that utilities could benefit from AI's massive power requirements, as data centers using large GPU clusters for AI require significant power capacity. It mentions that \"a data centre using a 100k GPU cluster – a target in sight for several large AI players – would require a small power plant to run.\"\n",
            "\n",
            "2. Infrastructure - Public infrastructure is highlighted as being well-positioned to support the growing AI demand, with a strong tilt toward the utilities sector.\n",
            "\n",
            "3. Sustainable Energy - The document indicates they \"look to sustainable energy exposures\" given the power demands of AI, against a backdrop of advancing technology, declining costs and supportive policy.\n",
            "\n",
            "4. Technology - While maintaining conviction in tech's growth prospects, BlackRock suggests broadening exposure beyond just direct AI companies to include \"first-phase beneficiaries\" in energy, infrastructure and utilities that are \"building out and powering the vast infrastructure required for AI's expansion.\"\n",
            "\n",
            "The document emphasizes that markets may be underestimating the scale of capital expenditure and power needs required for AI infrastructure development, creating investment opportunities in sectors that support this buildout rather than just focusing on direct AI technology companies.\n",
            "\n"
          ]
        },
        {
          "output_type": "display_data",
          "data": {
            "text/plain": [
              "<IPython.core.display.HTML object>"
            ],
            "text/html": [
              "<p style='color:blue;'>--------TOKENS COUNT---------</p>"
            ]
          },
          "metadata": {}
        },
        {
          "output_type": "display_data",
          "data": {
            "text/plain": [
              "<IPython.core.display.HTML object>"
            ],
            "text/html": [
              "<p style='color:blue;'>BetaUsage(cache_creation_input_tokens=0, cache_read_input_tokens=31019, input_tokens=31, output_tokens=268)</p>"
            ]
          },
          "metadata": {}
        },
        {
          "output_type": "stream",
          "name": "stdout",
          "text": [
            "\n",
            "--------STOP REASON---------\n",
            "end_turn\n",
            "\n",
            "\n",
            "\n"
          ]
        },
        {
          "output_type": "display_data",
          "data": {
            "text/plain": [
              "<IPython.core.display.HTML object>"
            ],
            "text/html": [
              "<p style='color:red;'>Query n° 2</p>"
            ]
          },
          "metadata": {}
        },
        {
          "output_type": "display_data",
          "data": {
            "text/plain": [
              "<IPython.core.display.HTML object>"
            ],
            "text/html": [
              "<p style='color:fuchsia;'>--------QUERY---------</p>"
            ]
          },
          "metadata": {}
        },
        {
          "output_type": "display_data",
          "data": {
            "text/plain": [
              "<IPython.core.display.HTML object>"
            ],
            "text/html": [
              "<p style='color:fuchsia;'>What are BlackRock’s thoughts on the impact of AI capex on market valuations?</p>"
            ]
          },
          "metadata": {}
        },
        {
          "output_type": "stream",
          "name": "stdout",
          "text": [
            "\n"
          ]
        },
        {
          "output_type": "display_data",
          "data": {
            "text/plain": [
              "<IPython.core.display.HTML object>"
            ],
            "text/html": [
              "<p style='color:green;'>--------ANSWER---------</p>"
            ]
          },
          "metadata": {}
        },
        {
          "output_type": "stream",
          "name": "stdout",
          "text": [
            "Based on the document, BlackRock has several key thoughts on AI capex and market valuations:\n",
            "\n",
            "1. They believe patience is needed regarding AI capex, noting that \"the build-out still has far to go\" but sentiment shifts around AI capital expenditure could weigh on valuations.\n",
            "\n",
            "2. They are fine-tuning their AI exposure approach by:\n",
            "- Broadening beyond just direct AI technology companies\n",
            "- Looking at \"first-phase beneficiaries\" in sectors like:\n",
            "  - Energy\n",
            "  - Infrastructure \n",
            "  - Utilities (which will be needed to power and build out AI infrastructure)\n",
            "\n",
            "3. They note that markets may be \"underestimating the scale of capex and AI power needs\" - particularly around power capacity requirements for large AI models and data centers.\n",
            "\n",
            "4. While maintaining conviction in tech overall, they acknowledge investor questions about whether \"the price for growth may be too high\" but maintain belief in tech's growth prospects.\n",
            "\n",
            "5. They see significant infrastructure investment needs to support AI expansion, noting that \"a data centre using a 100k GPU cluster – a target in sight for several large AI players – would require a small power plant to run.\"\n",
            "\n",
            "The overall view appears to be that while AI valuations may face some near-term pressure, the massive infrastructure and capital investment needed to support AI development creates opportunities across multiple sectors beyond just technology companies. They advocate for a broader, more diversified approach to capturing AI-related investment opportunities.\n",
            "\n"
          ]
        },
        {
          "output_type": "display_data",
          "data": {
            "text/plain": [
              "<IPython.core.display.HTML object>"
            ],
            "text/html": [
              "<p style='color:blue;'>--------TOKENS COUNT---------</p>"
            ]
          },
          "metadata": {}
        },
        {
          "output_type": "display_data",
          "data": {
            "text/plain": [
              "<IPython.core.display.HTML object>"
            ],
            "text/html": [
              "<p style='color:blue;'>BetaUsage(cache_creation_input_tokens=0, cache_read_input_tokens=31019, input_tokens=36, output_tokens=319)</p>"
            ]
          },
          "metadata": {}
        },
        {
          "output_type": "stream",
          "name": "stdout",
          "text": [
            "\n",
            "--------STOP REASON---------\n",
            "end_turn\n",
            "\n",
            "\n",
            "\n"
          ]
        }
      ]
    },
    {
      "cell_type": "markdown",
      "source": [
        "### US Election related questions:"
      ],
      "metadata": {
        "id": "aTpu0N1m1f4P"
      }
    },
    {
      "cell_type": "code",
      "source": [
        "for idx, query in enumerate(queries_us_election):\n",
        "  display(HTML(f\"<p style='color:red;'>Query n° {idx+1}</p>\"))\n",
        "  messages = build_message(query, pdf_data)\n",
        "  display(HTML(f\"<p style='color:fuchsia;'>--------QUERY---------</p>\"))\n",
        "  display(HTML(f\"<p style='color:fuchsia;'>{query}</p>\"))\n",
        "  print()\n",
        "  completion = get_completion(messages)\n",
        "  display(HTML(f\"<p style='color:green;'>--------ANSWER---------</p>\"))\n",
        "  print(completion.content[0].text)\n",
        "  print()\n",
        "  display(HTML(f\"<p style='color:blue;'>--------TOKENS COUNT---------</p>\"))\n",
        "  display(HTML(f\"<p style='color:blue;'>{completion.usage}</p>\"))\n",
        "  # print(completion.usage)\n",
        "  print()\n",
        "  print(\"--------STOP REASON---------\")\n",
        "  print(completion.stop_reason)\n",
        "  print(\"\\n\\n\")"
      ],
      "metadata": {
        "colab": {
          "base_uri": "https://localhost:8080/",
          "height": 1000
        },
        "id": "lOIc-thL1TUa",
        "outputId": "332e7cbc-d39b-4999-a6f2-973aa22a0461"
      },
      "execution_count": 15,
      "outputs": [
        {
          "output_type": "display_data",
          "data": {
            "text/plain": [
              "<IPython.core.display.HTML object>"
            ],
            "text/html": [
              "<p style='color:red;'>Query n° 1</p>"
            ]
          },
          "metadata": {}
        },
        {
          "output_type": "display_data",
          "data": {
            "text/plain": [
              "<IPython.core.display.HTML object>"
            ],
            "text/html": [
              "<p style='color:fuchsia;'>--------QUERY---------</p>"
            ]
          },
          "metadata": {}
        },
        {
          "output_type": "display_data",
          "data": {
            "text/plain": [
              "<IPython.core.display.HTML object>"
            ],
            "text/html": [
              "<p style='color:fuchsia;'>How does BlackRock anticipate the US election may impact trade policies?</p>"
            ]
          },
          "metadata": {}
        },
        {
          "output_type": "stream",
          "name": "stdout",
          "text": [
            "\n"
          ]
        },
        {
          "output_type": "display_data",
          "data": {
            "text/plain": [
              "<IPython.core.display.HTML object>"
            ],
            "text/html": [
              "<p style='color:green;'>--------ANSWER---------</p>"
            ]
          },
          "metadata": {}
        },
        {
          "output_type": "stream",
          "name": "stdout",
          "text": [
            "According to the document, BlackRock anticipates several potential trade policy impacts from the US election:\n",
            "\n",
            "Key points:\n",
            "\n",
            "1. Both candidates are likely to pursue additional export controls on national security grounds, especially in advanced technology.\n",
            "\n",
            "2. Different approaches to tariffs:\n",
            "- Harris is likely to maintain the status quo, with potential for more targeted tariffs against China\n",
            "- Trump has proposed more aggressive measures including:\n",
            "  - 60% tariffs on China \n",
            "  - 10-20% broad tariffs more generally\n",
            "\n",
            "3. Market implications:\n",
            "- Increased protectionism under either administration would reinforce geopolitical and economic fragmentation\n",
            "- This could contribute to keeping inflation higher over the medium term\n",
            "- Markets may see increased volatility as the election approaches\n",
            "\n",
            "4. Portfolio considerations:\n",
            "- BlackRock suggests UK equities as a potential hedge against trade rhetoric, noting that:\n",
            "  - UK large cap equity returns have low sensitivity to shifts in global trade\n",
            "  - This could help insulate portfolios against potential pickup in trade tensions ahead of the vote\n",
            "- They recommend alpha-seeking strategies to capitalize on stock-level dispersion and manage short-term volatility\n",
            "\n",
            "The document emphasizes that control of Congress will be key for implementing any trade policy changes, regardless of who wins the presidency.\n",
            "\n"
          ]
        },
        {
          "output_type": "display_data",
          "data": {
            "text/plain": [
              "<IPython.core.display.HTML object>"
            ],
            "text/html": [
              "<p style='color:blue;'>--------TOKENS COUNT---------</p>"
            ]
          },
          "metadata": {}
        },
        {
          "output_type": "display_data",
          "data": {
            "text/plain": [
              "<IPython.core.display.HTML object>"
            ],
            "text/html": [
              "<p style='color:blue;'>BetaUsage(cache_creation_input_tokens=0, cache_read_input_tokens=31019, input_tokens=32, output_tokens=275)</p>"
            ]
          },
          "metadata": {}
        },
        {
          "output_type": "stream",
          "name": "stdout",
          "text": [
            "\n",
            "--------STOP REASON---------\n",
            "end_turn\n",
            "\n",
            "\n",
            "\n"
          ]
        },
        {
          "output_type": "display_data",
          "data": {
            "text/plain": [
              "<IPython.core.display.HTML object>"
            ],
            "text/html": [
              "<p style='color:red;'>Query n° 2</p>"
            ]
          },
          "metadata": {}
        },
        {
          "output_type": "display_data",
          "data": {
            "text/plain": [
              "<IPython.core.display.HTML object>"
            ],
            "text/html": [
              "<p style='color:fuchsia;'>--------QUERY---------</p>"
            ]
          },
          "metadata": {}
        },
        {
          "output_type": "display_data",
          "data": {
            "text/plain": [
              "<IPython.core.display.HTML object>"
            ],
            "text/html": [
              "<p style='color:fuchsia;'>What potential market impacts does BlackRock see from the 2024 US presidential election?</p>"
            ]
          },
          "metadata": {}
        },
        {
          "output_type": "stream",
          "name": "stdout",
          "text": [
            "\n"
          ]
        },
        {
          "output_type": "display_data",
          "data": {
            "text/plain": [
              "<IPython.core.display.HTML object>"
            ],
            "text/html": [
              "<p style='color:green;'>--------ANSWER---------</p>"
            ]
          },
          "metadata": {}
        },
        {
          "output_type": "stream",
          "name": "stdout",
          "text": [
            "Based on the document, BlackRock identifies several potential market impacts from the 2024 US presidential election:\n",
            "\n",
            "Key market implications:\n",
            "\n",
            "1. Trade Policy:\n",
            "- Both candidates are likely to pursue additional export controls, especially in advanced technology\n",
            "- Harris is expected to maintain current tariff policies with potential for targeted China tariffs\n",
            "- Trump's proposed 60% tariffs on China and 10-20% broad tariffs would represent a major escalation\n",
            "\n",
            "2. Economic Effects:\n",
            "- Increased protectionism under either administration could reinforce geopolitical and economic fragmentation\n",
            "- This could contribute to keeping inflation higher over the medium term\n",
            "- Immigration policy changes could impact the labor market\n",
            "\n",
            "3. Market Volatility:\n",
            "- Market attention and volatility are expected to increase as the election approaches\n",
            "- The document suggests using UK equities as a potential hedge against trade-related volatility, noting their low sensitivity to shifts in global trade\n",
            "\n",
            "4. Fiscal Impact:\n",
            "- Neither party is prioritizing deficit reduction\n",
            "- Either candidate could pursue fiscally expansionary policies\n",
            "- This could bring volatility to the long end of the US Treasury curve\n",
            "- Could lead to higher issuance and push up 10-year yields\n",
            "\n",
            "The document recommends investors consider alpha-seeking strategies to navigate through potential short-term volatility while identifying high-quality investments during this period.\n",
            "\n"
          ]
        },
        {
          "output_type": "display_data",
          "data": {
            "text/plain": [
              "<IPython.core.display.HTML object>"
            ],
            "text/html": [
              "<p style='color:blue;'>--------TOKENS COUNT---------</p>"
            ]
          },
          "metadata": {}
        },
        {
          "output_type": "display_data",
          "data": {
            "text/plain": [
              "<IPython.core.display.HTML object>"
            ],
            "text/html": [
              "<p style='color:blue;'>BetaUsage(cache_creation_input_tokens=0, cache_read_input_tokens=31019, input_tokens=37, output_tokens=297)</p>"
            ]
          },
          "metadata": {}
        },
        {
          "output_type": "stream",
          "name": "stdout",
          "text": [
            "\n",
            "--------STOP REASON---------\n",
            "end_turn\n",
            "\n",
            "\n",
            "\n"
          ]
        },
        {
          "output_type": "display_data",
          "data": {
            "text/plain": [
              "<IPython.core.display.HTML object>"
            ],
            "text/html": [
              "<p style='color:red;'>Query n° 3</p>"
            ]
          },
          "metadata": {}
        },
        {
          "output_type": "display_data",
          "data": {
            "text/plain": [
              "<IPython.core.display.HTML object>"
            ],
            "text/html": [
              "<p style='color:fuchsia;'>--------QUERY---------</p>"
            ]
          },
          "metadata": {}
        },
        {
          "output_type": "display_data",
          "data": {
            "text/plain": [
              "<IPython.core.display.HTML object>"
            ],
            "text/html": [
              "<p style='color:fuchsia;'>How could UK equities serve as a hedge according to BlackRock’s election outlook?</p>"
            ]
          },
          "metadata": {}
        },
        {
          "output_type": "stream",
          "name": "stdout",
          "text": [
            "\n"
          ]
        },
        {
          "output_type": "display_data",
          "data": {
            "text/plain": [
              "<IPython.core.display.HTML object>"
            ],
            "text/html": [
              "<p style='color:green;'>--------ANSWER---------</p>"
            ]
          },
          "metadata": {}
        },
        {
          "output_type": "stream",
          "name": "stdout",
          "text": [
            "According to the document, UK equities could serve as a hedge against potential US election-related trade tensions because:\n",
            "\n",
            "1. UK equity returns have a low beta (sensitivity) to shifts in global trade, despite their international revenue exposure\n",
            "\n",
            "2. This makes them potentially useful for insulating portfolios against increased trade rhetoric ahead of the US election\n",
            "\n",
            "3. The document notes that UK equities were recently upgraded due to a more stable political backdrop post-UK election, adding to their appeal as a defensive position\n",
            "\n",
            "4. When combined with alpha-seeking strategies, this could help investors navigate through short-term volatility while still identifying high-quality investments\n",
            "\n",
            "The document presents this as a strategic way to maintain market exposure while reducing vulnerability to potential trade-related volatility that may emerge during the US presidential campaign period.\n",
            "\n"
          ]
        },
        {
          "output_type": "display_data",
          "data": {
            "text/plain": [
              "<IPython.core.display.HTML object>"
            ],
            "text/html": [
              "<p style='color:blue;'>--------TOKENS COUNT---------</p>"
            ]
          },
          "metadata": {}
        },
        {
          "output_type": "display_data",
          "data": {
            "text/plain": [
              "<IPython.core.display.HTML object>"
            ],
            "text/html": [
              "<p style='color:blue;'>BetaUsage(cache_creation_input_tokens=0, cache_read_input_tokens=31019, input_tokens=36, output_tokens=172)</p>"
            ]
          },
          "metadata": {}
        },
        {
          "output_type": "stream",
          "name": "stdout",
          "text": [
            "\n",
            "--------STOP REASON---------\n",
            "end_turn\n",
            "\n",
            "\n",
            "\n"
          ]
        }
      ]
    },
    {
      "cell_type": "markdown",
      "source": [
        "**Next:**\n",
        "\n",
        "-  Claude is quiete good for retrieving text and providing context with this new feature.\n",
        "\n",
        "-  However how is it behaving when it comes to extract information from charts?"
      ],
      "metadata": {
        "id": "Gw7kjuEkZ0tn"
      }
    },
    {
      "cell_type": "markdown",
      "source": [
        "# Charts extracion:"
      ],
      "metadata": {
        "id": "4tT8J7yBi1Y-"
      }
    },
    {
      "cell_type": "markdown",
      "source": [
        "## Complex Bar chart:"
      ],
      "metadata": {
        "id": "t9opUtbE3QQE"
      }
    },
    {
      "cell_type": "markdown",
      "source": [
        "You can ask Claude to directly extract figures from a specific chart on a particular page. The page number should match the actual number displayed by a PDF viewer, not the number printed at the top or bottom of the page:"
      ],
      "metadata": {
        "id": "STCTOM77a353"
      }
    },
    {
      "cell_type": "code",
      "source": [
        "query = \"Extract from page 8 all data included in Chart 1.\"\n",
        "messages = build_message(query, pdf_data)\n",
        "print(\"--------QUERY---------\")\n",
        "display(HTML(f\"<p style='color:fuchsia;'>--------QUERY---------</p>\"))\n",
        "display(HTML(f\"<p style='color:fuchsia;'>{query}</p>\"))\n",
        "print()\n",
        "completion = get_completion(messages)\n",
        "display(HTML(f\"<p style='color:green;'>--------ANSWER---------</p>\"))\n",
        "print(completion.content[0].text)\n",
        "print()\n",
        "display(HTML(f\"<p style='color:blue;'>--------TOKENS COUNT---------</p>\"))\n",
        "display(HTML(f\"<p style='color:blue;'>{completion.usage}</p>\"))\n",
        "  # print(completion.usage)\n",
        "print()\n",
        "print(\"--------STOP REASON---------\")\n",
        "print(completion.stop_reason)\n",
        "print(\"\\n\\n\")"
      ],
      "metadata": {
        "colab": {
          "base_uri": "https://localhost:8080/",
          "height": 693
        },
        "id": "AsSdyI5X3uB_",
        "outputId": "b36eaa6f-42c9-43e1-d1b3-8bb1fa1f05d7"
      },
      "execution_count": null,
      "outputs": [
        {
          "output_type": "stream",
          "name": "stdout",
          "text": [
            "--------QUERY---------\n"
          ]
        },
        {
          "output_type": "display_data",
          "data": {
            "text/plain": [
              "<IPython.core.display.HTML object>"
            ],
            "text/html": [
              "<p style='color:fuchsia;'>--------QUERY---------</p>"
            ]
          },
          "metadata": {}
        },
        {
          "output_type": "display_data",
          "data": {
            "text/plain": [
              "<IPython.core.display.HTML object>"
            ],
            "text/html": [
              "<p style='color:fuchsia;'>Extract from page 8 all data included in Chart 1.</p>"
            ]
          },
          "metadata": {}
        },
        {
          "output_type": "stream",
          "name": "stdout",
          "text": [
            "\n"
          ]
        },
        {
          "output_type": "display_data",
          "data": {
            "text/plain": [
              "<IPython.core.display.HTML object>"
            ],
            "text/html": [
              "<p style='color:green;'>--------ANSWER---------</p>"
            ]
          },
          "metadata": {}
        },
        {
          "output_type": "stream",
          "name": "stdout",
          "text": [
            "From Chart 1 on page 8, here is all the data showing fixed income sleeve comparison between Morningstar EMEA Portfolio Average Q2 24 and BLK EUR Strategic Model Q2 24:\n",
            "\n",
            "Morningstar EMEA Portfolio Average Q2 24:\n",
            "- Govt Bond: 36.8%\n",
            "- Linkers: 3.7%\n",
            "- EUR IG Credit: 12.1%\n",
            "- Other IG Credit: 1.0%\n",
            "- EUR High Yield: 8.4%\n",
            "- Other High Yield: 4.7%\n",
            "- EMD: 11.2%\n",
            "- Securitised: 16.4%\n",
            "\n",
            "BLK EUR Strategic Model Q2 24:\n",
            "- Govt Bond: 57.0%\n",
            "- Linkers: 19.9%\n",
            "- EUR IG Credit: 13.4%\n",
            "- Other IG Credit: 6.5%\n",
            "- EUR High Yield: 2.5%\n",
            "- Other High Yield: 4.7%\n",
            "- EMD: 1.5%\n",
            "- Securitised: N/A\n",
            "\n"
          ]
        },
        {
          "output_type": "display_data",
          "data": {
            "text/plain": [
              "<IPython.core.display.HTML object>"
            ],
            "text/html": [
              "<p style='color:blue;'>--------TOKENS COUNT---------</p>"
            ]
          },
          "metadata": {}
        },
        {
          "output_type": "display_data",
          "data": {
            "text/plain": [
              "<IPython.core.display.HTML object>"
            ],
            "text/html": [
              "<p style='color:blue;'>BetaUsage(cache_creation_input_tokens=0, cache_read_input_tokens=31019, input_tokens=31, output_tokens=266)</p>"
            ]
          },
          "metadata": {}
        },
        {
          "output_type": "stream",
          "name": "stdout",
          "text": [
            "\n",
            "--------STOP REASON---------\n",
            "end_turn\n",
            "\n",
            "\n",
            "\n"
          ]
        }
      ]
    },
    {
      "cell_type": "markdown",
      "source": [
        "Here is the chart I wanted Claude to extract: (Chart 1, in the left side)"
      ],
      "metadata": {
        "id": "q0_mnmRkbRWq"
      }
    },
    {
      "cell_type": "code",
      "source": [
        "img_path = local_path + 'BlackRock_chart_extraction.png'"
      ],
      "metadata": {
        "id": "qoEUUXtw4l51"
      },
      "execution_count": 21,
      "outputs": []
    },
    {
      "cell_type": "code",
      "source": [
        "from IPython.display import Image, display\n",
        "display(Image(filename=img_path))"
      ],
      "metadata": {
        "colab": {
          "base_uri": "https://localhost:8080/",
          "height": 603
        },
        "id": "9-S10U0ycM0o",
        "outputId": "3e9bc623-ca25-4966-da49-a6d8e5b7e6a7"
      },
      "execution_count": 22,
      "outputs": [
        {
          "output_type": "display_data",
          "data": {
            "image/png": "[encoded data removed]",
            "text/plain": [
              "<IPython.core.display.Image object>"
            ]
          },
          "metadata": {}
        }
      ]
    },
    {
      "cell_type": "markdown",
      "source": [
        "**Results analysis:**\n",
        "\n",
        "As you can see, the extracted numbers are NOT accurate!!"
      ],
      "metadata": {
        "id": "oNArcMEtcaCR"
      }
    },
    {
      "cell_type": "markdown",
      "source": [
        "How does this happen, especially considering the image extraction capabilities of Claude Sonnet 3.5?"
      ],
      "metadata": {
        "id": "icOnjW9TciyC"
      }
    },
    {
      "cell_type": "markdown",
      "source": [
        "I conducted the test without using the PDF feature, sending the image directly to Claude Sonnet 3.5 to compare the results:"
      ],
      "metadata": {
        "id": "HaZCbgkDcw58"
      }
    },
    {
      "cell_type": "code",
      "source": [
        "client_image = anthropic.Anthropic(api_key = CLAUDE_API_KEY)\n",
        "def get_completion_image(messages):\n",
        "    response = client_image.messages.create(\n",
        "        model=MODEL_NAME,\n",
        "        max_tokens=2048,\n",
        "        temperature=0,\n",
        "        messages=messages\n",
        "    )\n",
        "    return response.content[0].text\n",
        "\n",
        "import io\n",
        "import base64\n",
        "from PIL import Image\n",
        "\n",
        "image = Image.open(img_path)\n",
        "image_data = io.BytesIO()\n",
        "image.save(image_data, format='PNG', optimize=True, quality=75)\n",
        "image_data.seek(0)\n",
        "base64_encoded = base64.b64encode(image_data.getvalue()).decode('utf-8')\n",
        "\n",
        "def append_message(content, question):\n",
        "    content.append({\"type\": \"text\", \"text\": question})\n",
        "    messages = [\n",
        "      {\n",
        "          \"role\": 'user',\n",
        "          \"content\": content\n",
        "      }\n",
        "    ]\n",
        "    return messages\n",
        "\n",
        "question = \"\"\"Extract all data included in Chart 1.\"\"\"\n",
        "content = [{\"type\": \"image\", \"source\": {\"type\": \"base64\", \"media_type\": \"image/png\", \"data\": base64_encoded},}]\n",
        "messages = append_message(content, question)\n",
        "print(get_completion_image(messages))"
      ],
      "metadata": {
        "colab": {
          "base_uri": "https://localhost:8080/"
        },
        "id": "ygw0hctDdYYg",
        "outputId": "0a4ba635-7d12-4487-ccf4-3256ffa172c8"
      },
      "execution_count": 28,
      "outputs": [
        {
          "output_type": "stream",
          "name": "stdout",
          "text": [
            "Here's all the data from Chart 1:\n",
            "\n",
            "Morningstar EMEA Portfolio Average Q2 24:\n",
            "- Aggregate: 16.4%\n",
            "- EMD: 4.7%\n",
            "- EUR High Yield: 2.5%\n",
            "- Other High Yield: 1.0%\n",
            "- Other IG Credit: 13.4%\n",
            "- EUR IG Credit: 19.9%\n",
            "- Linkers: 3.7%\n",
            "- Govt Bond: 36.8%\n",
            "\n",
            "BLK EUR Strategic Model Q2 24:\n",
            "- Securitised: 11.2%\n",
            "- Other High Yield: 4.7%\n",
            "- EUR High Yield: 8.4%\n",
            "- Other IG Credit: 6.5%\n",
            "- EUR IG Credit: 12.1%\n",
            "- Govt Bond: 57.0%\n"
          ]
        }
      ]
    },
    {
      "cell_type": "markdown",
      "source": [
        "**Results** **analysis**:\n",
        "\n",
        "It's almost perfect:\n",
        "\n",
        "1:\n",
        "\n",
        "1.   In the first Bar chart:\n",
        "\n",
        "- Other High Yield: 2.5%\n",
        "- EUR High Yield: 1.0%\n",
        "\n",
        "instead of:\n",
        "\n",
        "- EUR High Yield: 2.5%\n",
        "- Other High Yield: 1.0%\n",
        "\n",
        "Securitised was missed.\n",
        "\n",
        "\n",
        "2.   In the second Bar chart:\n",
        "\n",
        "-  The first value isn't about Securitised but EMD.\n",
        "-  The other valeus are correct\n",
        "\n",
        "\n",
        "**Next:**\n",
        "\n",
        "Extracting data from image is better than using the pdf feature (for now), but it's still not that accurate.\n"
      ],
      "metadata": {
        "id": "SDM4oisQgMdE"
      }
    },
    {
      "cell_type": "markdown",
      "source": [
        "## Simple Bar chart:"
      ],
      "metadata": {
        "id": "cmyWnAr_4sQV"
      }
    },
    {
      "cell_type": "markdown",
      "source": [
        "Now let's try to extract data from a simple bar chat:"
      ],
      "metadata": {
        "id": "hy3ZzcU0isI2"
      }
    },
    {
      "cell_type": "code",
      "source": [
        "query = \"Extract from page 8 all data included in Chart 2.\"\n",
        "messages = build_message(query, pdf_data)\n",
        "print(\"--------QUERY---------\")\n",
        "display(HTML(f\"<p style='color:fuchsia;'>--------QUERY---------</p>\"))\n",
        "display(HTML(f\"<p style='color:fuchsia;'>{query}</p>\"))\n",
        "print()\n",
        "completion = get_completion(messages)\n",
        "display(HTML(f\"<p style='color:green;'>--------ANSWER---------</p>\"))\n",
        "print(completion.content[0].text)\n",
        "print()\n",
        "display(HTML(f\"<p style='color:blue;'>--------TOKENS COUNT---------</p>\"))\n",
        "display(HTML(f\"<p style='color:blue;'>{completion.usage}</p>\"))\n",
        "  # print(completion.usage)\n",
        "print()\n",
        "print(\"--------STOP REASON---------\")\n",
        "print(completion.stop_reason)\n",
        "print(\"\\n\\n\")"
      ],
      "metadata": {
        "colab": {
          "base_uri": "https://localhost:8080/",
          "height": 412
        },
        "id": "4GnuegHt4v8W",
        "outputId": "2d5fad9b-4e7a-4ad4-9e9d-673a2a7c943b"
      },
      "execution_count": null,
      "outputs": [
        {
          "output_type": "stream",
          "name": "stdout",
          "text": [
            "--------QUERY---------\n"
          ]
        },
        {
          "output_type": "display_data",
          "data": {
            "text/plain": [
              "<IPython.core.display.HTML object>"
            ],
            "text/html": [
              "<p style='color:fuchsia;'>--------QUERY---------</p>"
            ]
          },
          "metadata": {}
        },
        {
          "output_type": "display_data",
          "data": {
            "text/plain": [
              "<IPython.core.display.HTML object>"
            ],
            "text/html": [
              "<p style='color:fuchsia;'>Extract from page 8 all data included in Chart 2.</p>"
            ]
          },
          "metadata": {}
        },
        {
          "output_type": "stream",
          "name": "stdout",
          "text": [
            "\n"
          ]
        },
        {
          "output_type": "display_data",
          "data": {
            "text/plain": [
              "<IPython.core.display.HTML object>"
            ],
            "text/html": [
              "<p style='color:green;'>--------ANSWER---------</p>"
            ]
          },
          "metadata": {}
        },
        {
          "output_type": "stream",
          "name": "stdout",
          "text": [
            "Looking at Chart 2 \"Effective duration difference\" from page 8, here is the data:\n",
            "\n",
            "Morningstar EMEA Portfolio Average Q2 24: 1.55 years\n",
            "BLK EUR Strategic Model Q2 2024: 2.62 years\n",
            "\n",
            "The chart shows effective duration in years broken down by currency (CHF, EUR, GBP, JPY, USD) with the total values listed above.\n",
            "\n"
          ]
        },
        {
          "output_type": "display_data",
          "data": {
            "text/plain": [
              "<IPython.core.display.HTML object>"
            ],
            "text/html": [
              "<p style='color:blue;'>--------TOKENS COUNT---------</p>"
            ]
          },
          "metadata": {}
        },
        {
          "output_type": "display_data",
          "data": {
            "text/plain": [
              "<IPython.core.display.HTML object>"
            ],
            "text/html": [
              "<p style='color:blue;'>BetaUsage(cache_creation_input_tokens=0, cache_read_input_tokens=31019, input_tokens=31, output_tokens=105)</p>"
            ]
          },
          "metadata": {}
        },
        {
          "output_type": "stream",
          "name": "stdout",
          "text": [
            "\n",
            "--------STOP REASON---------\n",
            "end_turn\n",
            "\n",
            "\n",
            "\n"
          ]
        }
      ]
    },
    {
      "cell_type": "markdown",
      "source": [
        "That's good. Accurate results!"
      ],
      "metadata": {
        "id": "Iga4hViJiwZ1"
      }
    },
    {
      "cell_type": "markdown",
      "source": [
        "# Ask about specific numbers"
      ],
      "metadata": {
        "id": "TxjcPzrH7M1w"
      }
    },
    {
      "cell_type": "markdown",
      "source": [
        "Let's ask about specific numbers inlcuded in the text (not in the charts) :"
      ],
      "metadata": {
        "id": "HQitUhPJ7HRQ"
      }
    },
    {
      "cell_type": "code",
      "source": [
        "query = \"what are the current gold reserve levels for different countries around the world?\"\n",
        "messages = build_message(query, pdf_data)\n",
        "print(\"--------QUERY---------\")\n",
        "display(HTML(f\"<p style='color:fuchsia;'>--------QUERY---------</p>\"))\n",
        "display(HTML(f\"<p style='color:fuchsia;'>{query}</p>\"))\n",
        "print()\n",
        "completion = get_completion(messages)\n",
        "display(HTML(f\"<p style='color:green;'>--------ANSWER---------</p>\"))\n",
        "print(completion.content[0].text)\n",
        "print()\n",
        "display(HTML(f\"<p style='color:blue;'>--------TOKENS COUNT---------</p>\"))\n",
        "display(HTML(f\"<p style='color:blue;'>{completion.usage}</p>\"))\n",
        "  # print(completion.usage)\n",
        "print()\n",
        "print(\"--------STOP REASON---------\")\n",
        "print(completion.stop_reason)\n",
        "print(\"\\n\\n\")"
      ],
      "metadata": {
        "colab": {
          "base_uri": "https://localhost:8080/",
          "height": 345
        },
        "id": "k5g_vzhK6lfb",
        "outputId": "051a8185-3604-4be9-be06-c51e0d21865c"
      },
      "execution_count": null,
      "outputs": [
        {
          "output_type": "stream",
          "name": "stdout",
          "text": [
            "--------QUERY---------\n"
          ]
        },
        {
          "output_type": "display_data",
          "data": {
            "text/plain": [
              "<IPython.core.display.HTML object>"
            ],
            "text/html": [
              "<p style='color:fuchsia;'>--------QUERY---------</p>"
            ]
          },
          "metadata": {}
        },
        {
          "output_type": "display_data",
          "data": {
            "text/plain": [
              "<IPython.core.display.HTML object>"
            ],
            "text/html": [
              "<p style='color:fuchsia;'>what are the current gold reserve levels for different countries around the world?</p>"
            ]
          },
          "metadata": {}
        },
        {
          "output_type": "stream",
          "name": "stdout",
          "text": [
            "\n"
          ]
        },
        {
          "output_type": "display_data",
          "data": {
            "text/plain": [
              "<IPython.core.display.HTML object>"
            ],
            "text/html": [
              "<p style='color:green;'>--------ANSWER---------</p>"
            ]
          },
          "metadata": {}
        },
        {
          "output_type": "stream",
          "name": "stdout",
          "text": [
            "According to the document, there is significant variation in gold holdings as a percentage of overall reserves across different countries. Specifically, it mentions that some countries have gold holdings exceeding 70% of their reserves, while others like China and India hold significantly less, around 5-15% of their reserves. The document notes this disparity suggests there may be room for further gold allocation by some central banks. The document also indicates there was record central bank buying of gold in H1 2024, showing increased interest in gold reserves by central banks. However, it does not provide specific gold reserve levels for individual countries beyond these general percentage ranges.\n",
            "\n"
          ]
        },
        {
          "output_type": "display_data",
          "data": {
            "text/plain": [
              "<IPython.core.display.HTML object>"
            ],
            "text/html": [
              "<p style='color:blue;'>--------TOKENS COUNT---------</p>"
            ]
          },
          "metadata": {}
        },
        {
          "output_type": "display_data",
          "data": {
            "text/plain": [
              "<IPython.core.display.HTML object>"
            ],
            "text/html": [
              "<p style='color:blue;'>BetaUsage(cache_creation_input_tokens=31019, cache_read_input_tokens=0, input_tokens=31, output_tokens=133)</p>"
            ]
          },
          "metadata": {}
        },
        {
          "output_type": "stream",
          "name": "stdout",
          "text": [
            "\n",
            "--------STOP REASON---------\n",
            "end_turn\n",
            "\n",
            "\n",
            "\n"
          ]
        }
      ]
    },
    {
      "cell_type": "markdown",
      "source": [
        "Good results. Here is the reference:"
      ],
      "metadata": {
        "id": "3O7w47s0jE9_"
      }
    },
    {
      "cell_type": "markdown",
      "source": [
        "**Source reference ==> Page 10:**\n",
        "\n",
        "\"\"\"\n",
        "Strong central bank demand for gold has also supported sentiment this year.\n",
        "The latest data shows record central bank buying in H1 2024 – and our analysis suggests there may be room to run. As a percentage of overall reserves, we see some countries with gold holdings in excess of 70%, while others – including China and India – hold significantly less, at around the 5-15% range,5 pointing to space for further allocation.\"\"\""
      ],
      "metadata": {
        "id": "p5nIT95z7WFZ"
      }
    },
    {
      "cell_type": "code",
      "source": [
        "query = \"How has global M&A activity performed this year, and what growth rate does it reflect year-over-year?\"\n",
        "messages = build_message(query, pdf_data)\n",
        "print(\"--------QUERY---------\")\n",
        "display(HTML(f\"<p style='color:fuchsia;'>--------QUERY---------</p>\"))\n",
        "display(HTML(f\"<p style='color:fuchsia;'>{query}</p>\"))\n",
        "print()\n",
        "completion = get_completion(messages)\n",
        "display(HTML(f\"<p style='color:green;'>--------ANSWER---------</p>\"))\n",
        "print(completion.content[0].text)\n",
        "print()\n",
        "display(HTML(f\"<p style='color:blue;'>--------TOKENS COUNT---------</p>\"))\n",
        "display(HTML(f\"<p style='color:blue;'>{completion.usage}</p>\"))\n",
        "  # print(completion.usage)\n",
        "print()\n",
        "print(\"--------STOP REASON---------\")\n",
        "print(completion.stop_reason)\n",
        "print(\"\\n\\n\")"
      ],
      "metadata": {
        "colab": {
          "base_uri": "https://localhost:8080/",
          "height": 345
        },
        "id": "aoDi39ER7tQK",
        "outputId": "d9dd18b2-dc5f-4c90-ea7f-af9bab24c68a"
      },
      "execution_count": null,
      "outputs": [
        {
          "output_type": "stream",
          "name": "stdout",
          "text": [
            "--------QUERY---------\n"
          ]
        },
        {
          "output_type": "display_data",
          "data": {
            "text/plain": [
              "<IPython.core.display.HTML object>"
            ],
            "text/html": [
              "<p style='color:fuchsia;'>--------QUERY---------</p>"
            ]
          },
          "metadata": {}
        },
        {
          "output_type": "display_data",
          "data": {
            "text/plain": [
              "<IPython.core.display.HTML object>"
            ],
            "text/html": [
              "<p style='color:fuchsia;'>How has global M&A activity performed this year, and what growth rate does it reflect year-over-year?</p>"
            ]
          },
          "metadata": {}
        },
        {
          "output_type": "stream",
          "name": "stdout",
          "text": [
            "\n"
          ]
        },
        {
          "output_type": "display_data",
          "data": {
            "text/plain": [
              "<IPython.core.display.HTML object>"
            ],
            "text/html": [
              "<p style='color:green;'>--------ANSWER---------</p>"
            ]
          },
          "metadata": {}
        },
        {
          "output_type": "stream",
          "name": "stdout",
          "text": [
            "According to the document, global M&A activity has reached $2.3T so far this year, representing a 26.8% increase year-over-year (YoY). This is mentioned in the context of discussing private equity opportunities and demonstrates significant growth in deal activity compared to the previous year.\n",
            "\n"
          ]
        },
        {
          "output_type": "display_data",
          "data": {
            "text/plain": [
              "<IPython.core.display.HTML object>"
            ],
            "text/html": [
              "<p style='color:blue;'>--------TOKENS COUNT---------</p>"
            ]
          },
          "metadata": {}
        },
        {
          "output_type": "display_data",
          "data": {
            "text/plain": [
              "<IPython.core.display.HTML object>"
            ],
            "text/html": [
              "<p style='color:blue;'>BetaUsage(cache_creation_input_tokens=0, cache_read_input_tokens=31019, input_tokens=41, output_tokens=72)</p>"
            ]
          },
          "metadata": {}
        },
        {
          "output_type": "stream",
          "name": "stdout",
          "text": [
            "\n",
            "--------STOP REASON---------\n",
            "end_turn\n",
            "\n",
            "\n",
            "\n"
          ]
        }
      ]
    },
    {
      "cell_type": "markdown",
      "source": [
        "Good results. Here is the reference:"
      ],
      "metadata": {
        "id": "RKrjnptwjIvY"
      }
    },
    {
      "cell_type": "markdown",
      "source": [
        "**Source ==> Page 11:**\n",
        "\n",
        "\"\"\"\n",
        "As the landscape of technology, central bank rate trajectories and the lowcarbon transition continues to evolve, we believe private equity (PE) offers distinct advantages when integrated into existing portfolios. While global interest rates have started to fall, we see sticky inflation keeping rates elevated into 2025. This macro backdrop has shifted the focus of PE from leverage and\n",
        "multiple expansion to driving value through operational improvements, revenue growth and margin enhancement. Global M&A activity has hit $2.3T so far this year, up 26.8% YoY, illustrating a wealth of opportunity in the space.\n",
        "\"\"\""
      ],
      "metadata": {
        "id": "oQKZtqxa7088"
      }
    },
    {
      "cell_type": "markdown",
      "source": [
        "\n",
        "# 👉 **Key Takeaways:**\n",
        "\n",
        "- Easy to implement in the API.\n",
        "\n",
        "- Maximum number of pages is 100, several financial reports are less than 100 pages.\n",
        "\n",
        "- No need for chunking or embedding—just a single upload. However, the file needs to be re-uploaded each time.\n",
        "\n",
        "- I used the prompt caching feature to reduce costs, but it only lasts for 5 minutes, which isn’t ideal...\n",
        "\n",
        "- Chart data extraction isn't highly efficient yet, as it's still in beta.\n",
        "\n",
        "- It accurately extracts information and answers various questions (unrelated to charts), providing insightful responses with numerical data.\n"
      ],
      "metadata": {
        "id": "4qlgTDherKS4"
      }
    }
  ]
}