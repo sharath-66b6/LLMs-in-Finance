{
  "nbformat": 4,
  "nbformat_minor": 0,
  "metadata": {
    "colab": {
      "provenance": []
    },
    "kernelspec": {
      "name": "python3",
      "display_name": "Python 3"
    },
    "language_info": {
      "name": "python"
    }
  },
  "cells": [
    {
      "cell_type": "code",
      "source": [
        "!pip install openai-agents -q"
      ],
      "metadata": {
        "colab": {
          "base_uri": "https://localhost:8080/"
        },
        "id": "zODUdmORwbKK",
        "outputId": "834267c6-8c31-4216-f19a-7814c5b0a065"
      },
      "execution_count": null,
      "outputs": [
        {
          "output_type": "stream",
          "name": "stdout",
          "text": [
            "\u001b[?25l   \u001b[90m━━━━━━━━━━━━━━━━━━━━━━━━━━━━━━━━━━━━━━━━\u001b[0m \u001b[32m0.0/116.9 kB\u001b[0m \u001b[31m?\u001b[0m eta \u001b[36m-:--:--\u001b[0m\r\u001b[2K   \u001b[90m━━━━━━━━━━━━━━━━━━━━━━━━━━━━━━━━━━━━━━━━\u001b[0m \u001b[32m116.9/116.9 kB\u001b[0m \u001b[31m4.2 MB/s\u001b[0m eta \u001b[36m0:00:00\u001b[0m\n",
            "\u001b[?25h\u001b[?25l   \u001b[90m━━━━━━━━━━━━━━━━━━━━━━━━━━━━━━━━━━━━━━━━\u001b[0m \u001b[32m0.0/129.3 kB\u001b[0m \u001b[31m?\u001b[0m eta \u001b[36m-:--:--\u001b[0m\r\u001b[2K   \u001b[90m━━━━━━━━━━━━━━━━━━━━━━━━━━━━━━━━━━━━━━━━\u001b[0m \u001b[32m129.3/129.3 kB\u001b[0m \u001b[31m4.2 MB/s\u001b[0m eta \u001b[36m0:00:00\u001b[0m\n",
            "\u001b[2K   \u001b[90m━━━━━━━━━━━━━━━━━━━━━━━━━━━━━━━━━━━━━━━━\u001b[0m \u001b[32m100.4/100.4 kB\u001b[0m \u001b[31m5.4 MB/s\u001b[0m eta \u001b[36m0:00:00\u001b[0m\n",
            "\u001b[2K   \u001b[90m━━━━━━━━━━━━━━━━━━━━━━━━━━━━━━━━━━━━━━━━\u001b[0m \u001b[32m44.4/44.4 kB\u001b[0m \u001b[31m2.2 MB/s\u001b[0m eta \u001b[36m0:00:00\u001b[0m\n",
            "\u001b[2K   \u001b[90m━━━━━━━━━━━━━━━━━━━━━━━━━━━━━━━━━━━━━━━━\u001b[0m \u001b[32m72.0/72.0 kB\u001b[0m \u001b[31m5.0 MB/s\u001b[0m eta \u001b[36m0:00:00\u001b[0m\n",
            "\u001b[2K   \u001b[90m━━━━━━━━━━━━━━━━━━━━━━━━━━━━━━━━━━━━━━━━\u001b[0m \u001b[32m62.5/62.5 kB\u001b[0m \u001b[31m3.9 MB/s\u001b[0m eta \u001b[36m0:00:00\u001b[0m\n",
            "\u001b[?25h"
          ]
        }
      ]
    },
    {
      "cell_type": "code",
      "source": [
        "from google.colab import userdata\n",
        "OPENAI_API_KEY = userdata.get('OPENAI_API_KEY')\n",
        "\n",
        "import os\n",
        "os.environ[\"OPENAI_API_KEY\"] = OPENAI_API_KEY"
      ],
      "metadata": {
        "id": "T6-zwfZKwyzJ"
      },
      "execution_count": null,
      "outputs": []
    },
    {
      "cell_type": "code",
      "source": [
        "from datetime import datetime, timedelta\n",
        "\n",
        "print(datetime.now().strftime(\"%Y-%m-%d\"))\n",
        "(datetime.now() - timedelta(1)).strftime(\"%Y-%m-%d\")"
      ],
      "metadata": {
        "colab": {
          "base_uri": "https://localhost:8080/",
          "height": 53
        },
        "id": "ixqphl-lyCdz",
        "outputId": "8b9ab0cc-6265-448b-edfb-b1edf3b8e981"
      },
      "execution_count": null,
      "outputs": [
        {
          "output_type": "stream",
          "name": "stdout",
          "text": [
            "2025-05-08\n"
          ]
        },
        {
          "output_type": "execute_result",
          "data": {
            "text/plain": [
              "'2025-05-07'"
            ],
            "application/vnd.google.colaboratory.intrinsic+json": {
              "type": "string"
            }
          },
          "metadata": {},
          "execution_count": 3
        }
      ]
    },
    {
      "cell_type": "code",
      "source": [
        "import nest_asyncio\n",
        "nest_asyncio.apply()\n",
        "\n",
        "from agents import Agent, Runner, WebSearchTool, trace, ItemHelpers, TResponseInputItem\n",
        "from dataclasses import dataclass\n",
        "from typing import Literal"
      ],
      "metadata": {
        "id": "rd_yu5WZgPNw"
      },
      "execution_count": null,
      "outputs": []
    },
    {
      "cell_type": "code",
      "source": [
        "import asyncio"
      ],
      "metadata": {
        "id": "Gym92bNKgsGD"
      },
      "execution_count": null,
      "outputs": []
    },
    {
      "cell_type": "markdown",
      "source": [
        "# Evaluator-Optimizer Multi-Agent System (LLM-as-a-Judge)"
      ],
      "metadata": {
        "id": "eziwdfUHZYQ9"
      }
    },
    {
      "cell_type": "code",
      "source": [
        "\n",
        "\n",
        "\n",
        "today_date = datetime.now().strftime(\"%Y-%m-%d\")\n",
        "yesterday_date = (datetime.now() - timedelta(1)).strftime(\"%Y-%m-%d\")\n",
        "two_days_ago = (datetime.now() - timedelta(2)).strftime(\"%Y-%m-%d\")\n",
        "\n",
        "INSTRUCTIONS_NEWS_SEARCH = (\n",
        "    \"You are a research news assistant specialized in Finance or any news that can have impact on a financial health of a given company or a region.\"\n",
        "    \"You search the web for a given region to collect the most important and recent news. \"\n",
        "    \"Produce a concise summary of the results with citations. The summary must 2-3 paragraphs and less than 300 words.\"\n",
        "    \"Capture the main points. Write succinctly.\"\n",
        "    f\"Get only the very latest news between 2 days ago {two_days_ago} and today {today_date}.\"\n",
        "    \"Use only this resource: https://www.reuters.com/world/europe/.\"\n",
        "    \"For each item you are providing, specify the date on which the article was published.\"\n",
        "    \"For each item you are providing, specify the complete external link to the article.\"\n",
        "    \"This is important. Otherwise, don't give me a summary, if you don't provide a date and an external link.\"\n",
        "    \"If you don't give a source link, it means that you are hallucinating.\"\n",
        ")\n",
        "\n",
        "web_news_searcher = Agent(\n",
        "        name=\"web_news_searcher\",\n",
        "        instructions=INSTRUCTIONS_NEWS_SEARCH,\n",
        "        tools=[WebSearchTool()],\n",
        "    )\n",
        "\n",
        "@dataclass\n",
        "class EvaluationFeedback:\n",
        "    feedback: str\n",
        "    score: Literal[\"successful\", \"needs_links\"]\n",
        "\n",
        "news_evaluator = Agent(\n",
        "    name=\"news_evaluator\",\n",
        "    instructions=(\n",
        "        \"You will be given a financial news summary in a given region (Euro, US, Asia) and you are asked to evaluate the completeness of external source links.\"\n",
        "        \"Check whether the news summary is supported by external article links.\"\n",
        "        \"If the user requested n news items, each item must be supported by an external source link, so you need to ensure that there are n source links.\"\n",
        "        \"External links are required for the user to verify the accuracy of the news.\"\n",
        "    ),\n",
        "    output_type=EvaluationFeedback,\n",
        ")"
      ],
      "metadata": {
        "id": "Fadkgsl0bkM8"
      },
      "execution_count": null,
      "outputs": []
    },
    {
      "cell_type": "code",
      "source": [
        "from IPython.display import Image, display\n",
        "path_image = path + \"web_news_searcher_BOT.png\"\n",
        "display(Image(filename=path_image))"
      ],
      "metadata": {
        "colab": {
          "base_uri": "https://localhost:8080/",
          "height": 514
        },
        "id": "9eeOLAk3av4J",
        "outputId": "2617b769-6e01-4862-8c7f-eb957a94768c"
      },
      "execution_count": 6,
      "outputs": [
        {
          "output_type": "display_data",
          "data": {
            "image/png": "[encoded data removed]",
            "text/plain": [
              "<IPython.core.display.Image object>"
            ]
          },
          "metadata": {}
        }
      ]
    },
    {
      "cell_type": "markdown",
      "source": [
        "# Chat with the Mutli-Agent System"
      ],
      "metadata": {
        "id": "-8uUu9dKZ4IB"
      }
    },
    {
      "cell_type": "markdown",
      "source": [
        "## Give me the latest 5 news in Euro zone, and specify the resource for each one of them."
      ],
      "metadata": {
        "id": "wjYJ6PYbaBQZ"
      }
    },
    {
      "cell_type": "code",
      "source": [
        "async def main() -> None:\n",
        "    msg = input(\"User's request:\")\n",
        "    input_items: list[TResponseInputItem] = [{\"content\": msg, \"role\": \"user\"}]\n",
        "\n",
        "    latest_outline: str | None = None\n",
        "\n",
        "    max_iteration = 2\n",
        "\n",
        "    # We'll run the entire workflow in a single trace\n",
        "    nbr_iterations = 0\n",
        "    while True:\n",
        "        news_searcher_result = await Runner.run(\n",
        "            web_news_searcher,\n",
        "            input_items,\n",
        "          )\n",
        "\n",
        "        input_items = news_searcher_result.to_input_list()\n",
        "        latest_outline = ItemHelpers.text_message_outputs(news_searcher_result.new_items)\n",
        "        # final_output_generator = news_searcher_result.final_output #same than latest_outline\n",
        "\n",
        "        print(\"\\033[92m**************************NEWS SEARCH:**************************\\033[0m\")\n",
        "        print(latest_outline)\n",
        "\n",
        "        print(\"\\n\\n\\033[92m**************************Running Evaluation:**************************\\033[0m\")\n",
        "        news_evaluator_result = await Runner.run(news_evaluator, latest_outline)\n",
        "        result: EvaluationFeedback = news_evaluator_result.final_output\n",
        "\n",
        "        print(f\"\\033[94mEvaluator score: {result.score}\\033[0m\")\n",
        "        print(\"\\n\")\n",
        "\n",
        "        if result.score == \"successful\":\n",
        "              print(\"\\033[92m Links check is good ==> stopping the iteration.\\033[0m\")\n",
        "              break\n",
        "\n",
        "        print(\"\\033[94mFeedback:\\033[0m\")\n",
        "        print(result.feedback)\n",
        "\n",
        "        print(\"\\n\\n\\033[92m**************************Running Refinement:**************************\\033[0m\")\n",
        "        print(\"\\033[94mRe-running with feedback for improvements:\\033[0m\")\n",
        "        input_items.append({\"content\": f\"News Summary: {latest_outline}\", \"role\": \"system\"})\n",
        "        input_items.append({\"content\": f\"Feedback: {result.feedback}\\n for each item in the news summary, provide an external source link:\", \"role\": \"user\"})\n",
        "        # input_items.append({\"content\": f\"Feedback: {result.feedback}\", \"role\": \"user\"})\n",
        "        nbr_iterations+=1\n",
        "\n",
        "        if nbr_iterations>max_iteration:\n",
        "              print(\"\\033[91mReached max_iteration ==> stopping the iteration.\\033[0m\")\n",
        "              break\n",
        "\n",
        "    print(\"\\n\\n\\033[92m**************************Final Set of News with Links:**************************\\033[0m\")\n",
        "    print(latest_outline)\n",
        "\n",
        "\n",
        "if __name__ == \"__main__\":\n",
        "    asyncio.run(main())\n",
        "\n",
        "# Give me the latest 5 news in Euro zone, and specify the resource for each one of them."
      ],
      "metadata": {
        "colab": {
          "base_uri": "https://localhost:8080/"
        },
        "id": "jjWB6sv04ATf",
        "outputId": "8ed40e0d-20cd-4e32-9bc0-84fb1e02bd54"
      },
      "execution_count": null,
      "outputs": [
        {
          "output_type": "stream",
          "name": "stdout",
          "text": [
            "User's request:Give me the latest 5 news in Euro zone, and specify the resource for each one of them.\n",
            "\u001b[92m**************************NEWS SEARCH:**************************\u001b[0m\n",
            "As of May 8, 2025, there are no new articles available from Reuters' Europe section covering the Euro zone within the past two days. The most recent relevant article was published on December 18, 2024, discussing the European Commission's recommendation for slight fiscal tightening in the Euro zone for 2025 and 2026. ([reuters.com](https://www.reuters.com/markets/europe/eu-commission-recommends-slight-euro-zone-fiscal-tightening-2025-2026-2024-12-18/?utm_source=openai))\n",
            "\n",
            "For the latest updates on the Euro zone, you may consider checking other reputable news sources or financial news platforms. \n",
            "\n",
            "\n",
            "\u001b[92m**************************Running Evaluation:**************************\u001b[0m\n",
            "\u001b[94mEvaluator score: needs_links\u001b[0m\n",
            "\n",
            "\n",
            "\u001b[94mFeedback:\u001b[0m\n",
            "The summary only contains one external source link for a past article, and does not include links for five news items as requested. Additional links for current news articles should be provided.\n",
            "\n",
            "\n",
            "\u001b[92m**************************Running Refinement:**************************\u001b[0m\n",
            "\u001b[94mRe-running with feedback for improvements:\u001b[0m\n",
            "\u001b[92m**************************NEWS SEARCH:**************************\u001b[0m\n",
            "I apologize for the inconvenience. Let me try to find the latest Euro zone news articles for you.As of May 8, 2025, there are no new articles available from Reuters' Europe section covering the Euro zone within the past two days. The most recent relevant article was published on December 18, 2024, discussing the European Commission's recommendation for slight fiscal tightening in the Euro zone for 2025 and 2026. ([reuters.com](https://www.reuters.com/markets/europe/eu-commission-recommends-slight-euro-zone-fiscal-tightening-2025-2026-2024-12-18/?utm_source=openai))\n",
            "\n",
            "For the latest updates on the Euro zone, you may consider checking other reputable news sources or financial news platforms. \n",
            "\n",
            "\n",
            "\u001b[92m**************************Running Evaluation:**************************\u001b[0m\n",
            "\u001b[94mEvaluator score: needs_links\u001b[0m\n",
            "\n",
            "\n",
            "\u001b[94mFeedback:\u001b[0m\n",
            "The summary only provides one external link for a single article, which does not meet the requirement of five supported news items. Additional links are needed for a complete evaluation.\n",
            "\n",
            "\n",
            "\u001b[92m**************************Running Refinement:**************************\u001b[0m\n",
            "\u001b[94mRe-running with feedback for improvements:\u001b[0m\n",
            "\u001b[92m**************************NEWS SEARCH:**************************\u001b[0m\n",
            "I apologize for the lack of information. I was unable to find more recent articles specific to your request. Let me make another attempt to gather the latest news.Apologies for the earlier oversight. Here are the latest five news items related to the Euro zone, each accompanied by an external source link:\n",
            "\n",
            "1. **Market Recession Indicators: Dissecting the Signal from the Noise**  \n",
            "   Global markets are increasingly concerned about recession risks, with mixed economic indicators. While a temporary halt on U.S. tariffs has alleviated some fears, business and consumer confidence remain weak. U.S. consumer confidence has fallen to a five-year low, and euro zone investor sentiment, though improved, is still negative. Despite a first-quarter contraction in the U.S. and growth in the euro zone, analysts believe these were influenced by corporate behavior ahead of tariffs. Economists have downgraded growth forecasts, with some now expecting mild recessions in the U.S. and Europe. Commodity prices, particularly oil and copper, indicate slowing global demand. Bond markets reflect expectations of central bank interventions, including rate cuts, but not an imminent recession. Yield curves, a traditional recession predictor, are being viewed with caution. Meanwhile, global stock markets have rebounded strongly, potentially masking underlying economic risks. However, several major companies have issued cautious forecasts, suggesting that upcoming corporate earnings may reveal further economic stress. Overall, although fears have slightly subsided, the risk of recession remains significant due to weakening demand, cautious corporate outlooks, and deteriorating confidence indicators. ([reuters.com](https://www.reuters.com/markets/global-markets-recession-graphic-2025-05-08/?utm_source=openai))\n",
            "\n",
            "2. **TurkStream Gas Pipeline Could Slow EU, Russia Decoupling: Vladimirov**  \n",
            "   Despite the European Commission’s commitment to fully phase out Russian energy by 2027, the TurkStream gas pipeline is enabling continued Russian gas exports to Europe, complicating decoupling efforts. Since 2021, Russian pipeline exports to the EU plummeted from 155 bcm to below 40 bcm by 2024. However, Russian LNG sales nearly doubled to 25 bcm, with France, Belgium, Spain, and the Netherlands as key buyers. The TurkStream pipeline, directing gas from Russia through Turkey to Southeast Europe, increased exports by 16% year-on-year in Q1 2025, driven by Hungary and Slovakia. Hungary's imports could hit 8 bcm in 2025, while Slovakia expanded its long-term contract with Gazprom. These imports benefit from significant Gazprom discounts, though such savings often do not reach end consumers. Meanwhile, U.S. LNG is emerging as an alternative, but higher prices and long-term contract requirements raise concerns. The EU’s new energy roadmap lacks enforceable legal mechanisms, and political resistance from Central and Eastern European states remains. To ensure genuine energy independence, stricter policies—including banning spot gas purchases and enforcing traceability of gas origins—are recommended. Addressing TurkStream’s role becomes essential to advancing EU energy security and reducing overreliance on external suppliers. ([reuters.com](https://www.reuters.com/business/energy/turkstream-gas-pipeline-could-slow-eu-russia-decoupling-vladimirov-2025-05-07/?utm_source=openai))\n",
            "\n",
            "3. **EU Countries Back Softer Car CO2 Emissions Targets**  \n",
            "   The European Union member states have agreed to relax CO2 emissions targets for cars and vans, granting automakers more time to comply and potentially avoiding fines estimated at up to €15 billion. These penalties were a concern due to current emission goals heavily relying on electric vehicle (EV) sales, an area where European manufacturers have lagged behind their Chinese and U.S. counterparts. In response to lobbying from the automotive industry, the European Commission proposed a more flexible compliance mechanism, allowing manufacturers to average their emissions over the 2025-2027 period rather than meeting strict annual goals starting this year. This measure still requires formal approval from the European Parliament and the Council, although the Parliament is expected to approve it swiftly in an upcoming vote. ([reuters.com](https://www.reuters.com/sustainability/climate-energy/eu-countries-back-softer-car-co2-emissions-targets-2025-05-07/?utm_source=openai))\n",
            "\n",
            "4. **Italy in Talks to Hand FiberCop Extra Part of Lagging Fibre Network Plan**  \n",
            "   Italy is evaluating the possibility of transferring part of Open Fiber's responsibilities to FiberCop in an effort to accelerate the EU-funded broadband network rollout tied to its COVID-19 recovery targets. Both companies were tasked with providing ultra-fast internet to over 3 million buildings by June 2026 under a €3.4 billion ($3.9 billion) plan. As of February, only about half of the goal had been reached, with Open Fiber significantly behind schedule compared to FiberCop. During discussions with government officials, both firms expressed readiness to explore reallocating tasks where Open Fiber is underperforming. FiberCop, originally part of Telecom Italia (TIM), is now owned by a KKR-led group including Italy’s economy ministry. Open Fiber is majority-owned by the Italian state lender CDP, with Macquarie holding the remaining stake. Italy is pushing forward with infrastructure reforms as it remains behind EU peers in high-speed internet access, reaching only 59% of households compared to the EU average of 79%. The government is also considering merging the two firms’ network infrastructures to streamline efforts. ([reuters.com](https://www.reuters.com/en/italy-talks-hand-fibercop-extra-part-lagging-fibre-network-plan-2025-05-07/?utm_source=openai))\n",
            "\n",
            "5. **New Economy Minister Says Germany Must Seek Trade Deals**  \n",
            "   Germany's newly appointed Economy Minister, Katherina Reiche, emphasized the need for the country to proactively pursue international trade agreements to enhance export and import opportunities. Speaking at her official handover from former minister Robert Habeck, Reiche stressed that the European Union must diversify its trade relationships through free trade agreements with partners like Australia, Chile, India, Mexico, and Mercosur. Despite ongoing challenges, she affirmed that the United States would remain Germany's leading trade partner, noting that the U.S. accounted for €253 billion in bilateral trade with Germany in 2024. Reiche also highlighted the negative impact of U.S. tariffs imposed by President Donald Trump, which have decreased investor confidence and led to postponed investments. Industry leaders, including Volker Treier of the German Chamber of Industry and Commerce, echoed concerns about the economy’s trajectory. According to the AHK World Business Outlook conducted among 4,600 German companies worldwide, only 19% expect the domestic economy to improve in early 2025, down from 27% in late 2024, while 33% foresee economic deterioration. Reiche called for a free trade agreement with the U.S. to mitigate the damage of escalating trade tensions. ([reuters.com](https://www.reuters.com/markets/europe/new-economy-minister-says-germany-must-actively-seek-trade-improvements-2025-05-07/?utm_source=openai))\n",
            "\n",
            "These developments highlight ongoing economic, energy, and environmental challenges within the Euro zone, as well as efforts by member states to adapt to evolving global dynamics. \n",
            "\n",
            "\n",
            "\u001b[92m**************************Running Evaluation:**************************\u001b[0m\n",
            "\u001b[94mEvaluator score: successful\u001b[0m\n",
            "\n",
            "\n",
            "\u001b[92m Links check is good ==> stopping the iteration.\u001b[0m\n",
            "\n",
            "\n",
            "\u001b[92m**************************Final Set of News with Links:**************************\u001b[0m\n",
            "I apologize for the lack of information. I was unable to find more recent articles specific to your request. Let me make another attempt to gather the latest news.Apologies for the earlier oversight. Here are the latest five news items related to the Euro zone, each accompanied by an external source link:\n",
            "\n",
            "1. **Market Recession Indicators: Dissecting the Signal from the Noise**  \n",
            "   Global markets are increasingly concerned about recession risks, with mixed economic indicators. While a temporary halt on U.S. tariffs has alleviated some fears, business and consumer confidence remain weak. U.S. consumer confidence has fallen to a five-year low, and euro zone investor sentiment, though improved, is still negative. Despite a first-quarter contraction in the U.S. and growth in the euro zone, analysts believe these were influenced by corporate behavior ahead of tariffs. Economists have downgraded growth forecasts, with some now expecting mild recessions in the U.S. and Europe. Commodity prices, particularly oil and copper, indicate slowing global demand. Bond markets reflect expectations of central bank interventions, including rate cuts, but not an imminent recession. Yield curves, a traditional recession predictor, are being viewed with caution. Meanwhile, global stock markets have rebounded strongly, potentially masking underlying economic risks. However, several major companies have issued cautious forecasts, suggesting that upcoming corporate earnings may reveal further economic stress. Overall, although fears have slightly subsided, the risk of recession remains significant due to weakening demand, cautious corporate outlooks, and deteriorating confidence indicators. ([reuters.com](https://www.reuters.com/markets/global-markets-recession-graphic-2025-05-08/?utm_source=openai))\n",
            "\n",
            "2. **TurkStream Gas Pipeline Could Slow EU, Russia Decoupling: Vladimirov**  \n",
            "   Despite the European Commission’s commitment to fully phase out Russian energy by 2027, the TurkStream gas pipeline is enabling continued Russian gas exports to Europe, complicating decoupling efforts. Since 2021, Russian pipeline exports to the EU plummeted from 155 bcm to below 40 bcm by 2024. However, Russian LNG sales nearly doubled to 25 bcm, with France, Belgium, Spain, and the Netherlands as key buyers. The TurkStream pipeline, directing gas from Russia through Turkey to Southeast Europe, increased exports by 16% year-on-year in Q1 2025, driven by Hungary and Slovakia. Hungary's imports could hit 8 bcm in 2025, while Slovakia expanded its long-term contract with Gazprom. These imports benefit from significant Gazprom discounts, though such savings often do not reach end consumers. Meanwhile, U.S. LNG is emerging as an alternative, but higher prices and long-term contract requirements raise concerns. The EU’s new energy roadmap lacks enforceable legal mechanisms, and political resistance from Central and Eastern European states remains. To ensure genuine energy independence, stricter policies—including banning spot gas purchases and enforcing traceability of gas origins—are recommended. Addressing TurkStream’s role becomes essential to advancing EU energy security and reducing overreliance on external suppliers. ([reuters.com](https://www.reuters.com/business/energy/turkstream-gas-pipeline-could-slow-eu-russia-decoupling-vladimirov-2025-05-07/?utm_source=openai))\n",
            "\n",
            "3. **EU Countries Back Softer Car CO2 Emissions Targets**  \n",
            "   The European Union member states have agreed to relax CO2 emissions targets for cars and vans, granting automakers more time to comply and potentially avoiding fines estimated at up to €15 billion. These penalties were a concern due to current emission goals heavily relying on electric vehicle (EV) sales, an area where European manufacturers have lagged behind their Chinese and U.S. counterparts. In response to lobbying from the automotive industry, the European Commission proposed a more flexible compliance mechanism, allowing manufacturers to average their emissions over the 2025-2027 period rather than meeting strict annual goals starting this year. This measure still requires formal approval from the European Parliament and the Council, although the Parliament is expected to approve it swiftly in an upcoming vote. ([reuters.com](https://www.reuters.com/sustainability/climate-energy/eu-countries-back-softer-car-co2-emissions-targets-2025-05-07/?utm_source=openai))\n",
            "\n",
            "4. **Italy in Talks to Hand FiberCop Extra Part of Lagging Fibre Network Plan**  \n",
            "   Italy is evaluating the possibility of transferring part of Open Fiber's responsibilities to FiberCop in an effort to accelerate the EU-funded broadband network rollout tied to its COVID-19 recovery targets. Both companies were tasked with providing ultra-fast internet to over 3 million buildings by June 2026 under a €3.4 billion ($3.9 billion) plan. As of February, only about half of the goal had been reached, with Open Fiber significantly behind schedule compared to FiberCop. During discussions with government officials, both firms expressed readiness to explore reallocating tasks where Open Fiber is underperforming. FiberCop, originally part of Telecom Italia (TIM), is now owned by a KKR-led group including Italy’s economy ministry. Open Fiber is majority-owned by the Italian state lender CDP, with Macquarie holding the remaining stake. Italy is pushing forward with infrastructure reforms as it remains behind EU peers in high-speed internet access, reaching only 59% of households compared to the EU average of 79%. The government is also considering merging the two firms’ network infrastructures to streamline efforts. ([reuters.com](https://www.reuters.com/en/italy-talks-hand-fibercop-extra-part-lagging-fibre-network-plan-2025-05-07/?utm_source=openai))\n",
            "\n",
            "5. **New Economy Minister Says Germany Must Seek Trade Deals**  \n",
            "   Germany's newly appointed Economy Minister, Katherina Reiche, emphasized the need for the country to proactively pursue international trade agreements to enhance export and import opportunities. Speaking at her official handover from former minister Robert Habeck, Reiche stressed that the European Union must diversify its trade relationships through free trade agreements with partners like Australia, Chile, India, Mexico, and Mercosur. Despite ongoing challenges, she affirmed that the United States would remain Germany's leading trade partner, noting that the U.S. accounted for €253 billion in bilateral trade with Germany in 2024. Reiche also highlighted the negative impact of U.S. tariffs imposed by President Donald Trump, which have decreased investor confidence and led to postponed investments. Industry leaders, including Volker Treier of the German Chamber of Industry and Commerce, echoed concerns about the economy’s trajectory. According to the AHK World Business Outlook conducted among 4,600 German companies worldwide, only 19% expect the domestic economy to improve in early 2025, down from 27% in late 2024, while 33% foresee economic deterioration. Reiche called for a free trade agreement with the U.S. to mitigate the damage of escalating trade tensions. ([reuters.com](https://www.reuters.com/markets/europe/new-economy-minister-says-germany-must-actively-seek-trade-improvements-2025-05-07/?utm_source=openai))\n",
            "\n",
            "These developments highlight ongoing economic, energy, and environmental challenges within the Euro zone, as well as efforts by member states to adapt to evolving global dynamics. \n"
          ]
        }
      ]
    },
    {
      "cell_type": "markdown",
      "source": [
        "## Same query again to check if I get persistant answers"
      ],
      "metadata": {
        "id": "Q_crwZuxaHGr"
      }
    },
    {
      "cell_type": "code",
      "source": [
        "async def main() -> None:\n",
        "    msg = input(\"User's request:\")\n",
        "    input_items: list[TResponseInputItem] = [{\"content\": msg, \"role\": \"user\"}]\n",
        "\n",
        "    latest_outline: str | None = None\n",
        "\n",
        "    max_iteration = 2\n",
        "\n",
        "    # We'll run the entire workflow in a single trace\n",
        "    nbr_iterations = 0\n",
        "    while True:\n",
        "        news_searcher_result = await Runner.run(\n",
        "            web_news_searcher,\n",
        "            input_items,\n",
        "          )\n",
        "\n",
        "        input_items = news_searcher_result.to_input_list()\n",
        "        latest_outline = ItemHelpers.text_message_outputs(news_searcher_result.new_items)\n",
        "        # final_output_generator = news_searcher_result.final_output #same than latest_outline\n",
        "\n",
        "        print(\"\\033[92m**************************NEWS SEARCH:**************************\\033[0m\")\n",
        "        print(latest_outline)\n",
        "\n",
        "        print(\"\\n\\n\\033[92m**************************Running Evaluation:**************************\\033[0m\")\n",
        "        news_evaluator_result = await Runner.run(news_evaluator, latest_outline)\n",
        "        result: EvaluationFeedback = news_evaluator_result.final_output\n",
        "\n",
        "        print(f\"\\033[94mEvaluator score: {result.score}\\033[0m\")\n",
        "        print(\"\\n\")\n",
        "\n",
        "        if result.score == \"successful\":\n",
        "              print(\"\\033[92m Links check is good ==> stopping the iteration.\\033[0m\")\n",
        "              break\n",
        "\n",
        "        print(\"\\033[94mFeedback:\\033[0m\")\n",
        "        print(result.feedback)\n",
        "\n",
        "        print(\"\\n\\n\\033[92m**************************Running Refinement:**************************\\033[0m\")\n",
        "        print(\"\\033[94mRe-running with feedback for improvements:\\033[0m\")\n",
        "        input_items.append({\"content\": f\"News Summary: {latest_outline}\", \"role\": \"system\"})\n",
        "        input_items.append({\"content\": f\"Feedback: {result.feedback}\\n for each item in the news summary, provide an external source link:\", \"role\": \"user\"})\n",
        "        # input_items.append({\"content\": f\"Feedback: {result.feedback}\", \"role\": \"user\"})\n",
        "        nbr_iterations+=1\n",
        "\n",
        "        if nbr_iterations>max_iteration:\n",
        "              print(\"\\033[91mReached max_iteration ==> stopping the iteration.\\033[0m\")\n",
        "              break\n",
        "\n",
        "    print(\"\\n\\n\\033[92m**************************Final Set of News with Links:**************************\\033[0m\")\n",
        "    print(latest_outline)\n",
        "\n",
        "\n",
        "if __name__ == \"__main__\":\n",
        "    asyncio.run(main())\n",
        "\n",
        "# Give me the latest 5 news in Euro zone, and specify the resource for each one of them."
      ],
      "metadata": {
        "colab": {
          "base_uri": "https://localhost:8080/"
        },
        "id": "-VYB7--bWvaS",
        "outputId": "bf91c4cd-cfad-4f0c-c4cb-6472db108d2f"
      },
      "execution_count": null,
      "outputs": [
        {
          "output_type": "stream",
          "name": "stdout",
          "text": [
            "User's request:Give me the latest 5 news in Euro zone, and specify the resource for each one of them.\n",
            "\u001b[92m**************************NEWS SEARCH:**************************\u001b[0m\n",
            "Here are the latest five news items concerning the Euro zone:\n",
            "\n",
            "1. **EU Discusses Sanctions Over Russia's Alleged Chemical Weapons Use**  \n",
            "   On May 7, 2025, the European Commission proposed adding 15 entities and individuals to its sanctions list, targeting those involved in Russia's hybrid threats and suspected use of chemical weapons in Ukraine. This move follows reports from the Organisation for the Prohibition of Chemical Weapons (OPCW) indicating evidence of tear gas use on the Ukrainian frontline, a violation under the Chemical Weapons Convention if used in warfare. ([reuters.com](https://www.reuters.com/world/europe/eu-envoys-discuss-sanctions-related-russia-chemical-weapons-use-2025-05-07/?utm_source=openai))\n",
            "\n",
            "2. **Germany's Chancellor Urges EU Allies to Boost Defense Spending**  \n",
            "   During his inaugural foreign visit on May 7, 2025, German Chancellor Friedrich Merz called on European Union members to increase defense spending to address capability gaps and sustain support for Ukraine. Speaking alongside French President Emmanuel Macron in Paris, Merz emphasized the importance of Franco-German cooperation in strengthening European defense. ([reuters.com](https://www.reuters.com/world/europe/germanys-merz-calls-eu-allies-boost-defence-spending-first-foreign-visit-2025-05-07/?utm_source=openai))\n",
            "\n",
            "3. **EU Countries Agree to Relax Car CO2 Emissions Targets**  \n",
            "   On May 7, 2025, EU member states agreed to ease CO2 emissions targets for cars and vans, granting automakers more time to comply and potentially avoiding fines estimated at up to €15 billion. The European Commission proposed a more flexible compliance mechanism, allowing manufacturers to average their emissions over the 2025-2027 period rather than meeting strict annual goals starting this year. ([reuters.com](https://www.reuters.com/sustainability/climate-energy/eu-countries-back-softer-car-co2-emissions-targets-2025-05-07/?utm_source=openai))\n",
            "\n",
            "4. **EU Warns Romania to Remove Gas Price Cap or Face Legal Action**  \n",
            "   The European Commission issued a warning to Romania on May 7, 2025, demanding the removal of its gas price cap policy implemented since November 2021. The EU deems the policy a breach of energy market rules, arguing that it distorts market functioning and price signals. Romania has two months to address the issue or risk legal action. ([reuters.com](https://www.reuters.com/sustainability/boards-policy-regulation/eu-warns-romania-remove-gas-price-cap-or-face-legal-action-2025-05-07/?utm_source=openai))\n",
            "\n",
            "5. **Italy Considers Transferring Fiber Network Responsibilities to FiberCop**  \n",
            "   On May 7, 2025, Italy evaluated transferring part of Open Fiber's responsibilities to FiberCop to accelerate the EU-funded broadband network rollout tied to its COVID-19 recovery targets. Both companies were tasked with providing ultra-fast internet to over 3 million buildings by June 2026, but Open Fiber has significantly lagged behind schedule. ([reuters.com](https://www.reuters.com/en/italy-talks-hand-fibercop-extra-part-lagging-fibre-network-plan-2025-05-07/?utm_source=openai))\n",
            "\n",
            "\n",
            "## Latest Euro Zone Developments:\n",
            "- [EU envoys discuss sanctions related to Russia chemical weapons use](https://www.reuters.com/world/europe/eu-envoys-discuss-sanctions-related-russia-chemical-weapons-use-2025-05-07/?utm_source=openai)\n",
            "- [Germany's Merz calls on EU allies to boost defence spending on first foreign visit](https://www.reuters.com/world/europe/germanys-merz-calls-eu-allies-boost-defence-spending-first-foreign-visit-2025-05-07/?utm_source=openai)\n",
            "- [EU countries back softer car CO2 emissions targets](https://www.reuters.com/sustainability/climate-energy/eu-countries-back-softer-car-co2-emissions-targets-2025-05-07/?utm_source=openai) \n",
            "\n",
            "\n",
            "\u001b[92m**************************Running Evaluation:**************************\u001b[0m\n",
            "\u001b[94mEvaluator score: needs_links\u001b[0m\n",
            "\n",
            "\n",
            "\u001b[94mFeedback:\u001b[0m\n",
            "The news summary provides links for the first three items, but links for the last two items about Romania's gas pricing and Italy's fiber network are missing. For completeness, each news item should include an external source link for verification.\n",
            "\n",
            "\n",
            "\u001b[92m**************************Running Refinement:**************************\u001b[0m\n",
            "\u001b[94mRe-running with feedback for improvements:\u001b[0m\n",
            "\u001b[92m**************************NEWS SEARCH:**************************\u001b[0m\n",
            "I apologize for the oversight. Here are the latest five news items concerning the Euro zone, each with a source link:\n",
            "\n",
            "1. **EU Discusses Sanctions Over Russia's Alleged Chemical Weapons Use**  \n",
            "   Published: May 7, 2025 [Read more](https://www.reuters.com/world/europe/eu-envoys-discuss-sanctions-related-russia-chemical-weapons-use-2025-05-07/?utm_source=openai)\n",
            "\n",
            "2. **Germany's Chancellor Urges EU Allies to Boost Defense Spending**  \n",
            "   Published: May 7, 2025 [Read more](https://www.reuters.com/world/europe/germanys-merz-calls-eu-allies-boost-defence-spending-first-foreign-visit-2025-05-07/?utm_source=openai)\n",
            "\n",
            "3. **EU Countries Agree to Relax Car CO2 Emissions Targets**  \n",
            "   Published: May 7, 2025 [Read more](https://www.reuters.com/sustainability/climate-energy/eu-countries-back-softer-car-co2-emissions-targets-2025-05-07/?utm_source=openai)\n",
            "\n",
            "4. **EU Warns Romania to Remove Gas Price Cap or Face Legal Action**  \n",
            "   Published: May 7, 2025 [Read more](https://www.reuters.com/sustainability/boards-policy-regulation/eu-warns-romania-remove-gas-price-cap-or-face-legal-action-2025-05-07/?utm_source=openai)\n",
            "\n",
            "5. **Italy Considers Transferring Fiber Network Responsibilities to FiberCop**  \n",
            "   Published: May 7, 2025 [Read more](https://www.reuters.com/en/italy-talks-hand-fibercop-extra-part-lagging-fibre-network-plan-2025-05-07/?utm_source=openai)\n",
            "\n",
            "\n",
            "\u001b[92m**************************Running Evaluation:**************************\u001b[0m\n",
            "\u001b[94mEvaluator score: successful\u001b[0m\n",
            "\n",
            "\n",
            "\u001b[92m Links check is good ==> stopping the iteration.\u001b[0m\n",
            "\n",
            "\n",
            "\u001b[92m**************************Final Set of News with Links:**************************\u001b[0m\n",
            "I apologize for the oversight. Here are the latest five news items concerning the Euro zone, each with a source link:\n",
            "\n",
            "1. **EU Discusses Sanctions Over Russia's Alleged Chemical Weapons Use**  \n",
            "   Published: May 7, 2025 [Read more](https://www.reuters.com/world/europe/eu-envoys-discuss-sanctions-related-russia-chemical-weapons-use-2025-05-07/?utm_source=openai)\n",
            "\n",
            "2. **Germany's Chancellor Urges EU Allies to Boost Defense Spending**  \n",
            "   Published: May 7, 2025 [Read more](https://www.reuters.com/world/europe/germanys-merz-calls-eu-allies-boost-defence-spending-first-foreign-visit-2025-05-07/?utm_source=openai)\n",
            "\n",
            "3. **EU Countries Agree to Relax Car CO2 Emissions Targets**  \n",
            "   Published: May 7, 2025 [Read more](https://www.reuters.com/sustainability/climate-energy/eu-countries-back-softer-car-co2-emissions-targets-2025-05-07/?utm_source=openai)\n",
            "\n",
            "4. **EU Warns Romania to Remove Gas Price Cap or Face Legal Action**  \n",
            "   Published: May 7, 2025 [Read more](https://www.reuters.com/sustainability/boards-policy-regulation/eu-warns-romania-remove-gas-price-cap-or-face-legal-action-2025-05-07/?utm_source=openai)\n",
            "\n",
            "5. **Italy Considers Transferring Fiber Network Responsibilities to FiberCop**  \n",
            "   Published: May 7, 2025 [Read more](https://www.reuters.com/en/italy-talks-hand-fibercop-extra-part-lagging-fibre-network-plan-2025-05-07/?utm_source=openai)\n"
          ]
        }
      ]
    },
    {
      "cell_type": "markdown",
      "source": [
        "## Give me the latest news for 2 regions: Eurozone and US"
      ],
      "metadata": {
        "id": "xYR-sNxLaWd1"
      }
    },
    {
      "cell_type": "code",
      "source": [
        "async def main() -> None:\n",
        "    msg = input(\"User's request:\")\n",
        "    input_items: list[TResponseInputItem] = [{\"content\": msg, \"role\": \"user\"}]\n",
        "\n",
        "    latest_outline: str | None = None\n",
        "\n",
        "    max_iteration = 2\n",
        "\n",
        "    # We'll run the entire workflow in a single trace\n",
        "    nbr_iterations = 0\n",
        "    while True:\n",
        "        news_searcher_result = await Runner.run(\n",
        "            web_news_searcher,\n",
        "            input_items,\n",
        "          )\n",
        "\n",
        "        input_items = news_searcher_result.to_input_list()\n",
        "        latest_outline = ItemHelpers.text_message_outputs(news_searcher_result.new_items)\n",
        "        # final_output_generator = news_searcher_result.final_output #same than latest_outline\n",
        "\n",
        "        print(\"\\033[92m**************************NEWS SEARCH:**************************\\033[0m\")\n",
        "        print(latest_outline)\n",
        "\n",
        "        print(\"\\n\\n\\033[92m**************************Running Evaluation:**************************\\033[0m\")\n",
        "        news_evaluator_result = await Runner.run(news_evaluator, latest_outline)\n",
        "        result: EvaluationFeedback = news_evaluator_result.final_output\n",
        "\n",
        "        print(f\"\\033[94mEvaluator score: {result.score}\\033[0m\")\n",
        "        print(\"\\n\")\n",
        "\n",
        "        if result.score == \"successful\":\n",
        "              print(\"\\033[92m Links check is good ==> stopping the iteration.\\033[0m\")\n",
        "              break\n",
        "\n",
        "        print(\"\\033[94mFeedback:\\033[0m\")\n",
        "        print(result.feedback)\n",
        "\n",
        "        print(\"\\n\\n\\033[92m**************************Running Refinement:**************************\\033[0m\")\n",
        "        print(\"\\033[94mRe-running with feedback for improvements:\\033[0m\")\n",
        "        input_items.append({\"content\": f\"News Summary: {latest_outline}\", \"role\": \"system\"})\n",
        "        input_items.append({\"content\": f\"Feedback: {result.feedback}\\n for each item in the news summary, provide an external source link:\", \"role\": \"user\"})\n",
        "        # input_items.append({\"content\": f\"Feedback: {result.feedback}\", \"role\": \"user\"})\n",
        "        nbr_iterations+=1\n",
        "\n",
        "        if nbr_iterations>max_iteration:\n",
        "              print(\"\\033[91mReached max_iteration ==> stopping the iteration.\\033[0m\")\n",
        "              break\n",
        "\n",
        "    print(\"\\n\\n\\033[92m**************************Final Set of News with Links:**************************\\033[0m\")\n",
        "    print(latest_outline)\n",
        "\n",
        "\n",
        "if __name__ == \"__main__\":\n",
        "    asyncio.run(main())\n",
        "\n",
        "# Give me the latest 5 news items for each region: Eurozone and US. Specify the source for each one, and organize the news into separate paragraphs by region."
      ],
      "metadata": {
        "colab": {
          "base_uri": "https://localhost:8080/"
        },
        "id": "Be5Q1z6FYb6f",
        "outputId": "45e5c9dc-8573-4e01-8ed7-5cff91083ce1"
      },
      "execution_count": null,
      "outputs": [
        {
          "output_type": "stream",
          "name": "stdout",
          "text": [
            "User's request:Give me the latest 5 news items for each region: Eurozone and US. Specify the source for each one, and organize the news into separate paragraphs by region.\n",
            "\u001b[92m**************************NEWS SEARCH:**************************\u001b[0m\n",
            "**Eurozone:**\n",
            "\n",
            "1. **European Central Bank (ECB) Considers Further Rate Cuts**  \n",
            "   The ECB is debating whether to lower interest rates below the neutral level in its current easing cycle. Some policymakers believe that merely reaching the neutral rate may not suffice to stimulate the economy. ([fxstreet.com](https://www.fxstreet.com/news/ecb-starting-to-debate-whether-rates-need-to-go-below-neutral-in-latest-easing-cycle-reuters-202410230502?utm_source=openai))\n",
            "\n",
            "2. **Eurozone Economy Shows Zero Growth in Q4 2024**  \n",
            "   The eurozone economy stagnated in the fourth quarter of 2024, with zero growth reported, missing expectations for a slight expansion. This flatlining raises concerns about the region's economic momentum. ([nbcchicago.com](https://www.nbcchicago.com/news/business/money-report/european-central-bank-set-to-trim-interest-rates-for-fifth-time-since-june/3660265/?utm_source=openai))\n",
            "\n",
            "3. **Eurozone Inflation Rises to 2% in October 2024**  \n",
            "   Inflation in the euro area increased to 2% in October 2024, slightly above the forecasted 1.9%. This uptick may influence the ECB's decisions on future rate cuts. ([cnbcafrica.com](https://www.cnbcafrica.com/2024/euro-zone-inflation-rises-to-higher-than-expected-2-weakening-case-for-jumbo-rate-cut/?utm_source=openai))\n",
            "\n",
            "4. **European Markets Decline Amid Weak PMI Data**  \n",
            "   European stocks pared gains following weak Purchasing Managers' Index (PMI) data, with the euro slipping to a two-year low. The data indicated a sharp fall in eurozone business activity in November. ([nbcchicago.com](https://www.nbcchicago.com/news/business/money-report/europe-markets-set-to-open-higher-as-investors-monitor-russia-ukraine-tensions/3607457/?utm_source=openai))\n",
            "\n",
            "5. **Defense Stocks Boost European Markets**  \n",
            "   European markets saw gains driven by a surge in defense stocks, following regional leaders' discussions on increased military spending. Companies like Hensoldt and Dassault Aviation experienced significant stock price increases. ([nbcnewyork.com](https://www.nbcnewyork.com/news/business/money-report/european-markets-head-for-positive-open-euro-zone-flash-inflation-data-in-focus/6169998/?utm_source=openai))\n",
            "\n",
            "**United States:**\n",
            "\n",
            "1. **U.S. and Britain to Announce Trade Deal**  \n",
            "   President Donald Trump is expected to announce a major trade deal between the United States and Britain, potentially involving lower tariffs on steel and autos. This would be Britain's second trade agreement in a week. ([reuters.com](https://www.reuters.com/world/us/trump-says-news-conference-be-held-thursday-about-major-trade-deal-2025-05-08/?utm_source=openai))\n",
            "\n",
            "2. **Amazon Loses Bid to Block NLRB Case**  \n",
            "   A U.S. appeals court rejected Amazon's attempt to halt a National Labor Relations Board case concerning union negotiations at its New York City warehouse. The court deemed Amazon's appeal premature. ([reuters.com](https://www.reuters.com/legal/government/amazon-loses-bid-block-nlrb-case-over-nyc-union-bargaining-2025-05-07/?utm_source=openai))\n",
            "\n",
            "3. **U.S. Plans for Sovereign Wealth Fund**  \n",
            "   The U.S. Treasury and Commerce departments have developed plans for a sovereign wealth fund, though no final decisions have been made. The fund aims to enhance national and economic security. ([reuters.com](https://www.reuters.com/markets/us/us-has-plans-sovereign-wealth-fund-no-final-decisions-made-white-house-says-2025-05-08/?utm_source=openai))\n",
            "\n",
            "4. **Low-Cost Carriers Hit Hard by Travel Demand Slump**  \n",
            "   A decline in U.S. travel demand, attributed to trade tensions and economic uncertainty, has significantly impacted low-cost airlines like Southwest and JetBlue, which reported steep declines in operating margins. ([reuters.com](https://www.reuters.com/world/us/low-cost-carriers-hit-hardest-by-us-travel-demand-slump-2025-05-07/?utm_source=openai))\n",
            "\n",
            "5. **U.S. Judge Upholds FDA's Removal of Lilly's Drug from Shortage List**  \n",
            "   A federal judge upheld the FDA's decision to remove Eli Lilly's weight loss and diabetes medications from its shortage list, affecting compounding pharmacies' ability to produce less expensive versions. ([reuters.com](https://www.reuters.com/business/healthcare-pharmaceuticals/us-judge-sides-with-fdas-removal-lillys-weight-loss-drug-shortage-list-2025-05-07/?utm_source=openai))\n",
            "\n",
            "\n",
            "## Key Financial News Updates:\n",
            "- [US, Britain to announce trade deal on Thursday, New York Times says](https://www.reuters.com/world/us/trump-says-news-conference-be-held-thursday-about-major-trade-deal-2025-05-08/?utm_source=openai)\n",
            "- [Amazon loses bid to block NLRB case over NYC union bargaining](https://www.reuters.com/legal/government/amazon-loses-bid-block-nlrb-case-over-nyc-union-bargaining-2025-05-07/?utm_source=openai)\n",
            "- [US has plans for sovereign wealth fund but no final decisions made, White House says](https://www.reuters.com/markets/us/us-has-plans-sovereign-wealth-fund-no-final-decisions-made-white-house-says-2025-05-08/?utm_source=openai) \n",
            "\n",
            "\n",
            "\u001b[92m**************************Running Evaluation:**************************\u001b[0m\n",
            "\u001b[94mEvaluator score: successful\u001b[0m\n",
            "\n",
            "\n",
            "\u001b[92m Links check is good ==> stopping the iteration.\u001b[0m\n",
            "\n",
            "\n",
            "\u001b[92m**************************Final Set of News with Links:**************************\u001b[0m\n",
            "**Eurozone:**\n",
            "\n",
            "1. **European Central Bank (ECB) Considers Further Rate Cuts**  \n",
            "   The ECB is debating whether to lower interest rates below the neutral level in its current easing cycle. Some policymakers believe that merely reaching the neutral rate may not suffice to stimulate the economy. ([fxstreet.com](https://www.fxstreet.com/news/ecb-starting-to-debate-whether-rates-need-to-go-below-neutral-in-latest-easing-cycle-reuters-202410230502?utm_source=openai))\n",
            "\n",
            "2. **Eurozone Economy Shows Zero Growth in Q4 2024**  \n",
            "   The eurozone economy stagnated in the fourth quarter of 2024, with zero growth reported, missing expectations for a slight expansion. This flatlining raises concerns about the region's economic momentum. ([nbcchicago.com](https://www.nbcchicago.com/news/business/money-report/european-central-bank-set-to-trim-interest-rates-for-fifth-time-since-june/3660265/?utm_source=openai))\n",
            "\n",
            "3. **Eurozone Inflation Rises to 2% in October 2024**  \n",
            "   Inflation in the euro area increased to 2% in October 2024, slightly above the forecasted 1.9%. This uptick may influence the ECB's decisions on future rate cuts. ([cnbcafrica.com](https://www.cnbcafrica.com/2024/euro-zone-inflation-rises-to-higher-than-expected-2-weakening-case-for-jumbo-rate-cut/?utm_source=openai))\n",
            "\n",
            "4. **European Markets Decline Amid Weak PMI Data**  \n",
            "   European stocks pared gains following weak Purchasing Managers' Index (PMI) data, with the euro slipping to a two-year low. The data indicated a sharp fall in eurozone business activity in November. ([nbcchicago.com](https://www.nbcchicago.com/news/business/money-report/europe-markets-set-to-open-higher-as-investors-monitor-russia-ukraine-tensions/3607457/?utm_source=openai))\n",
            "\n",
            "5. **Defense Stocks Boost European Markets**  \n",
            "   European markets saw gains driven by a surge in defense stocks, following regional leaders' discussions on increased military spending. Companies like Hensoldt and Dassault Aviation experienced significant stock price increases. ([nbcnewyork.com](https://www.nbcnewyork.com/news/business/money-report/european-markets-head-for-positive-open-euro-zone-flash-inflation-data-in-focus/6169998/?utm_source=openai))\n",
            "\n",
            "**United States:**\n",
            "\n",
            "1. **U.S. and Britain to Announce Trade Deal**  \n",
            "   President Donald Trump is expected to announce a major trade deal between the United States and Britain, potentially involving lower tariffs on steel and autos. This would be Britain's second trade agreement in a week. ([reuters.com](https://www.reuters.com/world/us/trump-says-news-conference-be-held-thursday-about-major-trade-deal-2025-05-08/?utm_source=openai))\n",
            "\n",
            "2. **Amazon Loses Bid to Block NLRB Case**  \n",
            "   A U.S. appeals court rejected Amazon's attempt to halt a National Labor Relations Board case concerning union negotiations at its New York City warehouse. The court deemed Amazon's appeal premature. ([reuters.com](https://www.reuters.com/legal/government/amazon-loses-bid-block-nlrb-case-over-nyc-union-bargaining-2025-05-07/?utm_source=openai))\n",
            "\n",
            "3. **U.S. Plans for Sovereign Wealth Fund**  \n",
            "   The U.S. Treasury and Commerce departments have developed plans for a sovereign wealth fund, though no final decisions have been made. The fund aims to enhance national and economic security. ([reuters.com](https://www.reuters.com/markets/us/us-has-plans-sovereign-wealth-fund-no-final-decisions-made-white-house-says-2025-05-08/?utm_source=openai))\n",
            "\n",
            "4. **Low-Cost Carriers Hit Hard by Travel Demand Slump**  \n",
            "   A decline in U.S. travel demand, attributed to trade tensions and economic uncertainty, has significantly impacted low-cost airlines like Southwest and JetBlue, which reported steep declines in operating margins. ([reuters.com](https://www.reuters.com/world/us/low-cost-carriers-hit-hardest-by-us-travel-demand-slump-2025-05-07/?utm_source=openai))\n",
            "\n",
            "5. **U.S. Judge Upholds FDA's Removal of Lilly's Drug from Shortage List**  \n",
            "   A federal judge upheld the FDA's decision to remove Eli Lilly's weight loss and diabetes medications from its shortage list, affecting compounding pharmacies' ability to produce less expensive versions. ([reuters.com](https://www.reuters.com/business/healthcare-pharmaceuticals/us-judge-sides-with-fdas-removal-lillys-weight-loss-drug-shortage-list-2025-05-07/?utm_source=openai))\n",
            "\n",
            "\n",
            "## Key Financial News Updates:\n",
            "- [US, Britain to announce trade deal on Thursday, New York Times says](https://www.reuters.com/world/us/trump-says-news-conference-be-held-thursday-about-major-trade-deal-2025-05-08/?utm_source=openai)\n",
            "- [Amazon loses bid to block NLRB case over NYC union bargaining](https://www.reuters.com/legal/government/amazon-loses-bid-block-nlrb-case-over-nyc-union-bargaining-2025-05-07/?utm_source=openai)\n",
            "- [US has plans for sovereign wealth fund but no final decisions made, White House says](https://www.reuters.com/markets/us/us-has-plans-sovereign-wealth-fund-no-final-decisions-made-white-house-says-2025-05-08/?utm_source=openai) \n"
          ]
        }
      ]
    },
    {
      "cell_type": "code",
      "source": [],
      "metadata": {
        "id": "g7P7JrvBadcu"
      },
      "execution_count": null,
      "outputs": []
    },
    {
      "cell_type": "markdown",
      "source": [
        "# Add date of the article in the outpute"
      ],
      "metadata": {
        "id": "VHL4XQPJafQW"
      }
    },
    {
      "cell_type": "markdown",
      "source": [
        "Only the instruction of the news_evaluator has been modified"
      ],
      "metadata": {
        "id": "qSZXRrYcdIuR"
      }
    },
    {
      "cell_type": "code",
      "source": [
        "# today_date = datetime.now().strftime(\"%Y-%m-%d\")\n",
        "# yesterday_date = (datetime.now() - timedelta(1)).strftime(\"%Y-%m-%d\")\n",
        "# two_days_ago = (datetime.now() - timedelta(2)).strftime(\"%Y-%m-%d\")\n",
        "\n",
        "# INSTRUCTIONS_NEWS_SEARCH = (\n",
        "#     \"You are a research news assistant specialized in Finance or any news that can have impact on a financial health of a given company or a region.\"\n",
        "#     \"You search the web for a given region to collect the most important and recent news. \"\n",
        "#     \"Produce a concise summary of the results with citations. The summary must 2-3 paragraphs and less than 300 words.\"\n",
        "#     \"Capture the main points. Write succinctly.\"\n",
        "#     f\"Get only the very latest news between 2 days ago {two_days_ago} and today {today_date}.\"\n",
        "#     \"Use only this resource: https://www.reuters.com/world/europe/.\"\n",
        "#     \"For each item you are providing, specify the date on which the article was published.\"\n",
        "#     \"For each item you are providing, specify the complete external link to the article.\"\n",
        "#     \"This is important. Otherwise, don't give me a summary, if you don't provide a date and an external link.\"\n",
        "#     \"If you don't give a source link, it means that you are hallucinating.\"\n",
        "# )\n",
        "\n",
        "# web_news_searcher = Agent(\n",
        "#         name=\"web_news_searcher\",\n",
        "#         instructions=INSTRUCTIONS_NEWS_SEARCH,\n",
        "#         tools=[WebSearchTool()],\n",
        "#     )\n",
        "\n",
        "@dataclass\n",
        "class EvaluationFeedback:\n",
        "    feedback: str\n",
        "    score: Literal[\"successful\", \"needs_links\"]\n",
        "\n",
        "news_evaluator = Agent(\n",
        "    name=\"news_evaluator\",\n",
        "    instructions=(\n",
        "        \"You will be given a financial news summary in a given region (Euro, US, Asia) and you are asked to evaluate the completeness of external source links.\"\n",
        "        \"Check whether the news summary is supported by external article links.\"\n",
        "        \"If the user requested n news items, each item must be supported by an external source link, so you need to ensure that there are n source links.\"\n",
        "        \"External links are required for the user to verify the accuracy of the news.\"\n",
        "        \"For each item news, the date of the news must be provided.\"\n",
        "    ),\n",
        "    output_type=EvaluationFeedback,\n",
        ")"
      ],
      "metadata": {
        "id": "musWbY_xb1x4"
      },
      "execution_count": null,
      "outputs": []
    },
    {
      "cell_type": "code",
      "source": [
        "async def main() -> None:\n",
        "    msg = input(\"User's request:\")\n",
        "    input_items: list[TResponseInputItem] = [{\"content\": msg, \"role\": \"user\"}]\n",
        "\n",
        "    latest_outline: str | None = None\n",
        "\n",
        "    max_iteration = 2\n",
        "\n",
        "    # We'll run the entire workflow in a single trace\n",
        "    nbr_iterations = 0\n",
        "    while True:\n",
        "        news_searcher_result = await Runner.run(\n",
        "            web_news_searcher,\n",
        "            input_items,\n",
        "          )\n",
        "\n",
        "        input_items = news_searcher_result.to_input_list()\n",
        "        latest_outline = ItemHelpers.text_message_outputs(news_searcher_result.new_items)\n",
        "        # final_output_generator = news_searcher_result.final_output #same than latest_outline\n",
        "\n",
        "        print(\"\\033[92m**************************NEWS SEARCH:**************************\\033[0m\")\n",
        "        print(latest_outline)\n",
        "\n",
        "        print(\"\\n\\n\\033[92m**************************Running Evaluation:**************************\\033[0m\")\n",
        "        news_evaluator_result = await Runner.run(news_evaluator, latest_outline)\n",
        "        result: EvaluationFeedback = news_evaluator_result.final_output\n",
        "\n",
        "        print(f\"\\033[94mEvaluator score: {result.score}\\033[0m\")\n",
        "        print(\"\\n\")\n",
        "\n",
        "        if result.score == \"successful\":\n",
        "              print(\"\\033[92m Links check is good ==> stopping the iteration.\\033[0m\")\n",
        "              break\n",
        "\n",
        "        print(\"\\033[94mFeedback:\\033[0m\")\n",
        "        print(result.feedback)\n",
        "\n",
        "        print(\"\\n\\n\\033[92m**************************Running Refinement:**************************\\033[0m\")\n",
        "        print(\"\\033[94mRe-running with feedback for improvements:\\033[0m\")\n",
        "        input_items.append({\"content\": f\"News Summary: {latest_outline}\", \"role\": \"system\"})\n",
        "        input_items.append({\"content\": f\"Feedback: {result.feedback}\\n for each item in the news summary, provide an external source link:\", \"role\": \"user\"})\n",
        "        # input_items.append({\"content\": f\"Feedback: {result.feedback}\", \"role\": \"user\"})\n",
        "        nbr_iterations+=1\n",
        "\n",
        "        if nbr_iterations>max_iteration:\n",
        "              print(\"\\033[91mReached max_iteration ==> stopping the iteration.\\033[0m\")\n",
        "              break\n",
        "\n",
        "    print(\"\\n\\n\\033[92m**************************Final Set of News with Links:**************************\\033[0m\")\n",
        "    print(latest_outline)\n",
        "\n",
        "\n",
        "if __name__ == \"__main__\":\n",
        "    asyncio.run(main())\n",
        "\n",
        "# Give me the latest 5 news items for APAC region. Specify the source for each one."
      ],
      "metadata": {
        "colab": {
          "base_uri": "https://localhost:8080/"
        },
        "id": "vQINUWuUcU1O",
        "outputId": "90aad029-5605-41ee-fc84-6538729880ff"
      },
      "execution_count": null,
      "outputs": [
        {
          "output_type": "stream",
          "name": "stdout",
          "text": [
            "User's request:Give me the latest 5 news items for APAC region. Specify the source for each one.\n",
            "\u001b[92m**************************NEWS SEARCH:**************************\u001b[0m\n",
            "Here are the latest five news items from the Asia-Pacific (APAC) region:\n",
            "\n",
            "1. **Airlines Re-route, Cancel Flights Due to India-Pakistan Conflict**  \n",
            "   Published: May 7, 2025  \n",
            "   Following military tensions between India and Pakistan, numerous international and domestic flights have been rerouted or canceled. Major airlines, including United Airlines, Korean Air, and Lufthansa, have altered their flight paths to avoid affected airspace. ([reuters.com](https://www.reuters.com/business/aerospace-defense/asian-airlines-re-route-cancel-flights-due-india-pakistan-fighting-2025-05-07/?utm_source=openai))\n",
            "\n",
            "2. **Indonesia's Central Bank Seeks Balance Between Growth and Price Stability**  \n",
            "   Published: May 7, 2025  \n",
            "   Bank Indonesia is striving to balance stimulating economic growth with maintaining price and currency stability amid renewed geopolitical tensions and a weakening rupiah. The central bank has paused further interest rate cuts to stabilize the currency. ([reuters.com](https://www.reuters.com/markets/asia/indonesia-central-bank-seeks-balance-between-growth-price-stability-2025-05-07/?utm_source=openai))\n",
            "\n",
            "3. **Trump's Movie Tariff Threat Alarms Bollywood**  \n",
            "   Published: May 7, 2025  \n",
            "   India's film industry is concerned over U.S. President Donald Trump's proposed 100% tariff on foreign-produced movies. With approximately 40% of overseas box office revenue coming from the U.S., Indian filmmakers fear significant cost increases and reduced audience turnout. ([reuters.com](https://www.reuters.com/business/media-telecom/trumps-movie-tariff-threat-alarms-indias-film-makers-2025-05-07/?utm_source=openai))\n",
            "\n",
            "4. **India's Appeal for Investors Dimmed but Not Derailed by Conflict with Pakistan**  \n",
            "   Published: May 7, 2025  \n",
            "   Despite recent tensions with Pakistan, analysts believe these events have not significantly deterred foreign investment in India. The country's strong domestic consumption and economic growth forecast continue to attract investments. ([reuters.com](https://www.reuters.com/world/india/indias-appeal-investors-dimmed-not-derailed-by-conflict-with-pakistan-2025-05-07/?utm_source=openai))\n",
            "\n",
            "5. **Attacks Cloud India's Nascent Safe Haven Status**  \n",
            "   Published: May 7, 2025  \n",
            "   Recent military clashes with Pakistan have cast a shadow over India's emerging status as a potential economic safe haven. While financial markets remain resilient, the conflict threatens long-term stability and could deter foreign investment. ([reuters.com](https://www.reuters.com/breakingviews/attacks-cloud-indias-nascent-safe-haven-status-2025-05-07/?utm_source=openai)) \n",
            "\n",
            "\n",
            "\u001b[92m**************************Running Evaluation:**************************\u001b[0m\n",
            "\u001b[94mEvaluator score: successful\u001b[0m\n",
            "\n",
            "\n",
            "\u001b[92m Links check is good ==> stopping the iteration.\u001b[0m\n",
            "\n",
            "\n",
            "\u001b[92m**************************Final Set of News with Links:**************************\u001b[0m\n",
            "Here are the latest five news items from the Asia-Pacific (APAC) region:\n",
            "\n",
            "1. **Airlines Re-route, Cancel Flights Due to India-Pakistan Conflict**  \n",
            "   Published: May 7, 2025  \n",
            "   Following military tensions between India and Pakistan, numerous international and domestic flights have been rerouted or canceled. Major airlines, including United Airlines, Korean Air, and Lufthansa, have altered their flight paths to avoid affected airspace. ([reuters.com](https://www.reuters.com/business/aerospace-defense/asian-airlines-re-route-cancel-flights-due-india-pakistan-fighting-2025-05-07/?utm_source=openai))\n",
            "\n",
            "2. **Indonesia's Central Bank Seeks Balance Between Growth and Price Stability**  \n",
            "   Published: May 7, 2025  \n",
            "   Bank Indonesia is striving to balance stimulating economic growth with maintaining price and currency stability amid renewed geopolitical tensions and a weakening rupiah. The central bank has paused further interest rate cuts to stabilize the currency. ([reuters.com](https://www.reuters.com/markets/asia/indonesia-central-bank-seeks-balance-between-growth-price-stability-2025-05-07/?utm_source=openai))\n",
            "\n",
            "3. **Trump's Movie Tariff Threat Alarms Bollywood**  \n",
            "   Published: May 7, 2025  \n",
            "   India's film industry is concerned over U.S. President Donald Trump's proposed 100% tariff on foreign-produced movies. With approximately 40% of overseas box office revenue coming from the U.S., Indian filmmakers fear significant cost increases and reduced audience turnout. ([reuters.com](https://www.reuters.com/business/media-telecom/trumps-movie-tariff-threat-alarms-indias-film-makers-2025-05-07/?utm_source=openai))\n",
            "\n",
            "4. **India's Appeal for Investors Dimmed but Not Derailed by Conflict with Pakistan**  \n",
            "   Published: May 7, 2025  \n",
            "   Despite recent tensions with Pakistan, analysts believe these events have not significantly deterred foreign investment in India. The country's strong domestic consumption and economic growth forecast continue to attract investments. ([reuters.com](https://www.reuters.com/world/india/indias-appeal-investors-dimmed-not-derailed-by-conflict-with-pakistan-2025-05-07/?utm_source=openai))\n",
            "\n",
            "5. **Attacks Cloud India's Nascent Safe Haven Status**  \n",
            "   Published: May 7, 2025  \n",
            "   Recent military clashes with Pakistan have cast a shadow over India's emerging status as a potential economic safe haven. While financial markets remain resilient, the conflict threatens long-term stability and could deter foreign investment. ([reuters.com](https://www.reuters.com/breakingviews/attacks-cloud-indias-nascent-safe-haven-status-2025-05-07/?utm_source=openai)) \n"
          ]
        }
      ]
    },
    {
      "cell_type": "markdown",
      "source": [
        "# Method"
      ],
      "metadata": {
        "id": "nBB5UNI-oUZO"
      }
    },
    {
      "cell_type": "markdown",
      "source": [
        "We can wrap the call to the agents in this method:"
      ],
      "metadata": {
        "id": "R-8u35IrbqLx"
      }
    },
    {
      "cell_type": "code",
      "source": [
        "async def execute_agent(web_news_searcher, news_evaluator, input_items, latest_outline,max_iteration=2):\n",
        "    nbr_iterations = 0\n",
        "    while True:\n",
        "        news_searcher_result = await Runner.run(\n",
        "            web_news_searcher,\n",
        "            input_items,\n",
        "          )\n",
        "\n",
        "        input_items = news_searcher_result.to_input_list()\n",
        "        latest_outline = ItemHelpers.text_message_outputs(news_searcher_result.new_items)\n",
        "        # final_output_generator = news_searcher_result.final_output #same than latest_outline\n",
        "\n",
        "        print(\"\\033[92m**************************NEWS SEARCH:**************************\\033[0m\")\n",
        "        print(latest_outline)\n",
        "\n",
        "        print(\"\\n\\n\\033[92m**************************Running Evaluation:**************************\\033[0m\")\n",
        "        news_evaluator_result = await Runner.run(news_evaluator, latest_outline)\n",
        "        result: EvaluationFeedback = news_evaluator_result.final_output\n",
        "\n",
        "        print(f\"\\033[94mEvaluator score: {result.score}\\033[0m\")\n",
        "        print(\"\\n\")\n",
        "\n",
        "        if result.score == \"successful\":\n",
        "              print(\"\\033[92m Links check is good ==> stopping the iteration.\\033[0m\")\n",
        "              break\n",
        "\n",
        "        print(\"\\033[94mFeedback:\\033[0m\")\n",
        "        print(result.feedback)\n",
        "\n",
        "        print(\"\\n\\n\\033[92m**************************Running Refinement:**************************\\033[0m\")\n",
        "        print(\"\\033[94mRe-running with feedback for improvements:\\033[0m\")\n",
        "        input_items.append({\"content\": f\"News Summary: {latest_outline}\", \"role\": \"system\"})\n",
        "        input_items.append({\"content\": f\"Feedback: {result.feedback}\\n for each item in the news summary, provide an external source link:\", \"role\": \"user\"})\n",
        "        # input_items.append({\"content\": f\"Feedback: {result.feedback}\", \"role\": \"user\"})\n",
        "        nbr_iterations+=1\n",
        "\n",
        "        if nbr_iterations > max_iteration:\n",
        "              print(\"\\033[91mReached max_iteration ==> stopping the iteration.\\033[0m\")\n",
        "              break\n",
        "\n",
        "    return latest_outline"
      ],
      "metadata": {
        "id": "QHpzfnLLd8PI"
      },
      "execution_count": null,
      "outputs": []
    },
    {
      "cell_type": "code",
      "source": [
        "# async def main() -> None:\n",
        "#     msg = input(\"User's request:\")\n",
        "#     input_items: list[TResponseInputItem] = [{\"content\": msg, \"role\": \"user\"}]\n",
        "\n",
        "#     latest_outline: str | None = None\n",
        "\n",
        "#     max_iteration = 2\n",
        "\n",
        "#     final_outline = await execute_agent(web_news_searcher, news_evaluator, input_items, latest_outline,max_iteration=2)\n",
        "#     print(\"\\n\\n\\033[92m**************************Final Set of News with Links:**************************\\033[0m\")\n",
        "#     print(final_outline)\n",
        "\n",
        "\n",
        "# if __name__ == \"__main__\":\n",
        "#     asyncio.run(main())\n",
        "\n",
        "# # Give me the latest 5 news items for APAC region. Specify the source for each one."
      ],
      "metadata": {
        "id": "m5c-hPY2d7P4"
      },
      "execution_count": 7,
      "outputs": []
    }
  ]
}